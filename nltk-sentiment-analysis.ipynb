{
 "cells": [
  {
   "cell_type": "code",
   "execution_count": 1,
   "id": "26e859bc",
   "metadata": {
    "_cell_guid": "b1076dfc-b9ad-4769-8c92-a6c4dae69d19",
    "_uuid": "8f2839f25d086af736a60e9eeb907d3b93b6e0e5",
    "execution": {
     "iopub.execute_input": "2024-05-23T21:20:16.020634Z",
     "iopub.status.busy": "2024-05-23T21:20:16.019857Z",
     "iopub.status.idle": "2024-05-23T21:20:16.747244Z",
     "shell.execute_reply": "2024-05-23T21:20:16.745963Z"
    },
    "papermill": {
     "duration": 0.740586,
     "end_time": "2024-05-23T21:20:16.749372",
     "exception": false,
     "start_time": "2024-05-23T21:20:16.008786",
     "status": "completed"
    },
    "tags": []
   },
   "outputs": [
    {
     "name": "stdout",
     "output_type": "stream",
     "text": [
      "/kaggle/input/flipkartreview/flipkart.csv\n"
     ]
    }
   ],
   "source": [
    "# This Python 3 environment comes with many helpful analytics libraries installed\n",
    "# It is defined by the kaggle/python Docker image: https://github.com/kaggle/docker-python\n",
    "# For example, here's several helpful packages to load\n",
    "\n",
    "import numpy as np # linear algebra\n",
    "import pandas as pd # data processing, CSV file I/O (e.g. pd.read_csv)\n",
    "\n",
    "# Input data files are available in the read-only \"../input/\" directory\n",
    "# For example, running this (by clicking run or pressing Shift+Enter) will list all files under the input directory\n",
    "\n",
    "import os\n",
    "for dirname, _, filenames in os.walk('/kaggle/input'):\n",
    "    for filename in filenames:\n",
    "        print(os.path.join(dirname, filename))\n",
    "\n",
    "# You can write up to 20GB to the current directory (/kaggle/working/) that gets preserved as output when you create a version using \"Save & Run All\" \n",
    "# You can also write temporary files to /kaggle/temp/, but they won't be saved outside of the current session"
   ]
  },
  {
   "cell_type": "code",
   "execution_count": 2,
   "id": "1ec3ee8d",
   "metadata": {
    "execution": {
     "iopub.execute_input": "2024-05-23T21:20:16.770422Z",
     "iopub.status.busy": "2024-05-23T21:20:16.769979Z",
     "iopub.status.idle": "2024-05-23T21:20:18.586574Z",
     "shell.execute_reply": "2024-05-23T21:20:18.585787Z"
    },
    "papermill": {
     "duration": 1.829717,
     "end_time": "2024-05-23T21:20:18.588986",
     "exception": false,
     "start_time": "2024-05-23T21:20:16.759269",
     "status": "completed"
    },
    "tags": []
   },
   "outputs": [],
   "source": [
    "import matplotlib.pyplot as plt\n",
    "import seaborn as sns\n",
    "plt.style.use('ggplot')\n",
    "\n",
    "import nltk"
   ]
  },
  {
   "cell_type": "code",
   "execution_count": null,
   "id": "8ded88da",
   "metadata": {
    "papermill": {
     "duration": 0.009197,
     "end_time": "2024-05-23T21:20:18.607957",
     "exception": false,
     "start_time": "2024-05-23T21:20:18.598760",
     "status": "completed"
    },
    "tags": []
   },
   "outputs": [],
   "source": []
  },
  {
   "cell_type": "code",
   "execution_count": 3,
   "id": "c0a3196e",
   "metadata": {
    "execution": {
     "iopub.execute_input": "2024-05-23T21:20:18.627928Z",
     "iopub.status.busy": "2024-05-23T21:20:18.627615Z",
     "iopub.status.idle": "2024-05-23T21:20:18.695870Z",
     "shell.execute_reply": "2024-05-23T21:20:18.694887Z"
    },
    "papermill": {
     "duration": 0.080902,
     "end_time": "2024-05-23T21:20:18.698141",
     "exception": false,
     "start_time": "2024-05-23T21:20:18.617239",
     "status": "completed"
    },
    "tags": []
   },
   "outputs": [
    {
     "name": "stdout",
     "output_type": "stream",
     "text": [
      "(500, 3)\n"
     ]
    },
    {
     "data": {
      "text/html": [
       "<div>\n",
       "<style scoped>\n",
       "    .dataframe tbody tr th:only-of-type {\n",
       "        vertical-align: middle;\n",
       "    }\n",
       "\n",
       "    .dataframe tbody tr th {\n",
       "        vertical-align: top;\n",
       "    }\n",
       "\n",
       "    .dataframe thead th {\n",
       "        text-align: right;\n",
       "    }\n",
       "</style>\n",
       "<table border=\"1\" class=\"dataframe\">\n",
       "  <thead>\n",
       "    <tr style=\"text-align: right;\">\n",
       "      <th></th>\n",
       "      <th>Product_name</th>\n",
       "      <th>Review</th>\n",
       "      <th>Rating</th>\n",
       "    </tr>\n",
       "  </thead>\n",
       "  <tbody>\n",
       "    <tr>\n",
       "      <th>0</th>\n",
       "      <td>Lenovo Ideapad Gaming 3 Ryzen 5 Hexa Core 5600...</td>\n",
       "      <td>Best under 60k Great performanceI got it for a...</td>\n",
       "      <td>5</td>\n",
       "    </tr>\n",
       "    <tr>\n",
       "      <th>1</th>\n",
       "      <td>Lenovo Ideapad Gaming 3 Ryzen 5 Hexa Core 5600...</td>\n",
       "      <td>Good perfomence...</td>\n",
       "      <td>5</td>\n",
       "    </tr>\n",
       "    <tr>\n",
       "      <th>2</th>\n",
       "      <td>Lenovo Ideapad Gaming 3 Ryzen 5 Hexa Core 5600...</td>\n",
       "      <td>Great performance but usually it has also that...</td>\n",
       "      <td>5</td>\n",
       "    </tr>\n",
       "    <tr>\n",
       "      <th>3</th>\n",
       "      <td>DELL Inspiron Athlon Dual Core 3050U - (4 GB/2...</td>\n",
       "      <td>My wife is so happy and best product 👌🏻😘</td>\n",
       "      <td>5</td>\n",
       "    </tr>\n",
       "    <tr>\n",
       "      <th>4</th>\n",
       "      <td>DELL Inspiron Athlon Dual Core 3050U - (4 GB/2...</td>\n",
       "      <td>Light weight laptop with new amazing features,...</td>\n",
       "      <td>5</td>\n",
       "    </tr>\n",
       "  </tbody>\n",
       "</table>\n",
       "</div>"
      ],
      "text/plain": [
       "                                        Product_name  \\\n",
       "0  Lenovo Ideapad Gaming 3 Ryzen 5 Hexa Core 5600...   \n",
       "1  Lenovo Ideapad Gaming 3 Ryzen 5 Hexa Core 5600...   \n",
       "2  Lenovo Ideapad Gaming 3 Ryzen 5 Hexa Core 5600...   \n",
       "3  DELL Inspiron Athlon Dual Core 3050U - (4 GB/2...   \n",
       "4  DELL Inspiron Athlon Dual Core 3050U - (4 GB/2...   \n",
       "\n",
       "                                              Review  Rating  \n",
       "0  Best under 60k Great performanceI got it for a...       5  \n",
       "1                                 Good perfomence...       5  \n",
       "2  Great performance but usually it has also that...       5  \n",
       "3           My wife is so happy and best product 👌🏻😘       5  \n",
       "4  Light weight laptop with new amazing features,...       5  "
      ]
     },
     "execution_count": 3,
     "metadata": {},
     "output_type": "execute_result"
    }
   ],
   "source": [
    "df = pd.read_csv('/kaggle/input/flipkartreview/flipkart.csv', index_col=0)\n",
    "df = df.head(500)\n",
    "print(df.shape)\n",
    "df.head()"
   ]
  },
  {
   "cell_type": "markdown",
   "id": "69510166",
   "metadata": {
    "papermill": {
     "duration": 0.009416,
     "end_time": "2024-05-23T21:20:18.717850",
     "exception": false,
     "start_time": "2024-05-23T21:20:18.708434",
     "status": "completed"
    },
    "tags": []
   },
   "source": [
    "# **EDA**"
   ]
  },
  {
   "cell_type": "code",
   "execution_count": 4,
   "id": "3328da9e",
   "metadata": {
    "execution": {
     "iopub.execute_input": "2024-05-23T21:20:18.738058Z",
     "iopub.status.busy": "2024-05-23T21:20:18.737731Z",
     "iopub.status.idle": "2024-05-23T21:20:19.035814Z",
     "shell.execute_reply": "2024-05-23T21:20:19.034919Z"
    },
    "papermill": {
     "duration": 0.310471,
     "end_time": "2024-05-23T21:20:19.037939",
     "exception": false,
     "start_time": "2024-05-23T21:20:18.727468",
     "status": "completed"
    },
    "tags": []
   },
   "outputs": [
    {
     "data": {
      "image/png": "[encoded data removed]",
      "text/plain": [
       "<Figure size 1000x500 with 1 Axes>"
      ]
     },
     "metadata": {},
     "output_type": "display_data"
    }
   ],
   "source": [
    "ax = df['Rating'].value_counts().sort_index().plot(kind = 'bar',\n",
    "      title = 'Count of Reviews by Stars',\n",
    "      figsize = (10,5))\n",
    "ax.set_xlabel('Review Stars')\n",
    "plt.show()"
   ]
  },
  {
   "cell_type": "markdown",
   "id": "2431a90b",
   "metadata": {
    "papermill": {
     "duration": 0.009674,
     "end_time": "2024-05-23T21:20:19.058835",
     "exception": false,
     "start_time": "2024-05-23T21:20:19.049161",
     "status": "completed"
    },
    "tags": []
   },
   "source": [
    "# **NLTK**"
   ]
  },
  {
   "cell_type": "code",
   "execution_count": 5,
   "id": "664412e8",
   "metadata": {
    "execution": {
     "iopub.execute_input": "2024-05-23T21:20:19.079667Z",
     "iopub.status.busy": "2024-05-23T21:20:19.079401Z",
     "iopub.status.idle": "2024-05-23T21:20:19.083573Z",
     "shell.execute_reply": "2024-05-23T21:20:19.082747Z"
    },
    "papermill": {
     "duration": 0.016717,
     "end_time": "2024-05-23T21:20:19.085400",
     "exception": false,
     "start_time": "2024-05-23T21:20:19.068683",
     "status": "completed"
    },
    "tags": []
   },
   "outputs": [],
   "source": [
    "example = df['Review'][50]"
   ]
  },
  {
   "cell_type": "code",
   "execution_count": 6,
   "id": "d0f5e448",
   "metadata": {
    "execution": {
     "iopub.execute_input": "2024-05-23T21:20:19.106274Z",
     "iopub.status.busy": "2024-05-23T21:20:19.106038Z",
     "iopub.status.idle": "2024-05-23T21:20:19.122812Z",
     "shell.execute_reply": "2024-05-23T21:20:19.122033Z"
    },
    "papermill": {
     "duration": 0.029361,
     "end_time": "2024-05-23T21:20:19.124715",
     "exception": false,
     "start_time": "2024-05-23T21:20:19.095354",
     "status": "completed"
    },
    "tags": []
   },
   "outputs": [
    {
     "data": {
      "text/plain": [
       "['Read', 'this', 'if', 'you', \"'re\", 'going', 'to', 'buy', 'any', 'laptopMy']"
      ]
     },
     "execution_count": 6,
     "metadata": {},
     "output_type": "execute_result"
    }
   ],
   "source": [
    "tokens = nltk.word_tokenize(example)\n",
    "tokens[:10]"
   ]
  },
  {
   "cell_type": "code",
   "execution_count": 7,
   "id": "8fe0236a",
   "metadata": {
    "execution": {
     "iopub.execute_input": "2024-05-23T21:20:19.145763Z",
     "iopub.status.busy": "2024-05-23T21:20:19.145528Z",
     "iopub.status.idle": "2024-05-23T21:20:19.267758Z",
     "shell.execute_reply": "2024-05-23T21:20:19.266786Z"
    },
    "papermill": {
     "duration": 0.135231,
     "end_time": "2024-05-23T21:20:19.269905",
     "exception": false,
     "start_time": "2024-05-23T21:20:19.134674",
     "status": "completed"
    },
    "tags": []
   },
   "outputs": [
    {
     "data": {
      "text/plain": [
       "[('Read', 'VB'),\n",
       " ('this', 'DT'),\n",
       " ('if', 'IN'),\n",
       " ('you', 'PRP'),\n",
       " (\"'re\", 'VBP'),\n",
       " ('going', 'VBG'),\n",
       " ('to', 'TO'),\n",
       " ('buy', 'VB'),\n",
       " ('any', 'DT'),\n",
       " ('laptopMy', 'JJ')]"
      ]
     },
     "execution_count": 7,
     "metadata": {},
     "output_type": "execute_result"
    }
   ],
   "source": [
    "tagged = nltk.pos_tag(tokens)\n",
    "tagged[:10]"
   ]
  },
  {
   "cell_type": "code",
   "execution_count": 8,
   "id": "35acc710",
   "metadata": {
    "execution": {
     "iopub.execute_input": "2024-05-23T21:20:19.291897Z",
     "iopub.status.busy": "2024-05-23T21:20:19.291596Z",
     "iopub.status.idle": "2024-05-23T21:20:19.439182Z",
     "shell.execute_reply": "2024-05-23T21:20:19.438217Z"
    },
    "papermill": {
     "duration": 0.161965,
     "end_time": "2024-05-23T21:20:19.442314",
     "exception": false,
     "start_time": "2024-05-23T21:20:19.280349",
     "status": "completed"
    },
    "tags": []
   },
   "outputs": [
    {
     "name": "stdout",
     "output_type": "stream",
     "text": [
      "(S\n",
      "  Read/VB\n",
      "  this/DT\n",
      "  if/IN\n",
      "  you/PRP\n",
      "  're/VBP\n",
      "  going/VBG\n",
      "  to/TO\n",
      "  buy/VB\n",
      "  any/DT\n",
      "  laptopMy/JJ\n",
      "  advice/NN\n",
      "  is/VBZ\n",
      "  please/JJ\n",
      "  not/RB\n",
      "  to/TO\n",
      "  look/VB\n",
      "  brand/NN\n",
      "  in/IN\n",
      "  buying/VBG\n",
      "  laptops/NNS\n",
      "  .The/JJ\n",
      "  laptops/NNS\n",
      "  with/IN\n",
      "  same/JJ\n",
      "  specs/NN\n",
      "  of/IN\n",
      "  brands/NNS\n",
      "  hp/NNS\n",
      "  ,/,\n",
      "  full/JJ\n",
      "  ,/,\n",
      "  aver/RB\n",
      "  ,/,\n",
      "  lenovo/NN\n",
      "  ,/,\n",
      "  asus/NN\n",
      "  etc/NN\n",
      "  are/VBP\n",
      "  same/JJ\n",
      "  To/TO\n",
      "  get/VB\n",
      "  to/TO\n",
      "  for/IN\n",
      "  minimum/NN\n",
      "  cost/NN\n",
      "  try/NN\n",
      "  (ORGANIZATION asusDont/NN)\n",
      "  feel/VB\n",
      "  asus/NN\n",
      "  is/VBZ\n",
      "  not/RB\n",
      "  as/RB\n",
      "  good/JJ\n",
      "  as/IN\n",
      "  hp/NN\n",
      "  or/CC\n",
      "  dellFor/VB\n",
      "  this/DT\n",
      "  laptopPros-/JJ\n",
      "  ●high/JJ\n",
      "  speed/NN\n",
      "  boot/NN\n",
      "  up/RP\n",
      "  (/(\n",
      "  faster/JJR\n",
      "  than/IN\n",
      "  mac/JJ\n",
      "  pro/FW\n",
      "  )/)\n",
      "  ●/FW\n",
      "  intel/NN\n",
      "  i3/NN\n",
      "  good/JJ\n",
      "  performance/NN\n",
      "  if/IN\n",
      "  your/PRP$\n",
      "  use/NN\n",
      "  is/VBZ\n",
      "  home/NN\n",
      "  ,/,\n",
      "  student/NN\n",
      "  ,/,\n",
      "  and/CC\n",
      "  coding●extra/JJ\n",
      "  slot/NN\n",
      "  for/IN\n",
      "  ram.if/NN\n",
      "  you/PRP\n",
      "  add/VBP\n",
      "  8/CD\n",
      "  gb/JJ\n",
      "  ram/NN\n",
      "  (/(\n",
      "  you/PRP\n",
      "  can/MD\n",
      "  get/VB\n",
      "  for/IN\n",
      "  just/RB\n",
      "  2500/CD\n",
      "  in/IN\n",
      "  flipkart/NN\n",
      "  and/CC\n",
      "  can/MD\n",
      "  add/VB\n",
      "  it/PRP\n",
      "  yourself/PRP\n",
      "  )/)\n",
      "  You/PRP\n",
      "  .../:)\n"
     ]
    }
   ],
   "source": [
    "entities = nltk.chunk.ne_chunk(tagged)\n",
    "entities.pprint()"
   ]
  },
  {
   "cell_type": "markdown",
   "id": "d65313eb",
   "metadata": {
    "papermill": {
     "duration": 0.01089,
     "end_time": "2024-05-23T21:20:19.464956",
     "exception": false,
     "start_time": "2024-05-23T21:20:19.454066",
     "status": "completed"
    },
    "tags": []
   },
   "source": [
    "# **Sentiment Scoring**"
   ]
  },
  {
   "cell_type": "code",
   "execution_count": 9,
   "id": "10e6fa05",
   "metadata": {
    "execution": {
     "iopub.execute_input": "2024-05-23T21:20:19.488498Z",
     "iopub.status.busy": "2024-05-23T21:20:19.488145Z",
     "iopub.status.idle": "2024-05-23T21:20:19.530976Z",
     "shell.execute_reply": "2024-05-23T21:20:19.530045Z"
    },
    "papermill": {
     "duration": 0.057146,
     "end_time": "2024-05-23T21:20:19.533004",
     "exception": false,
     "start_time": "2024-05-23T21:20:19.475858",
     "status": "completed"
    },
    "tags": []
   },
   "outputs": [
    {
     "name": "stderr",
     "output_type": "stream",
     "text": [
      "/opt/conda/lib/python3.10/site-packages/nltk/twitter/__init__.py:20: UserWarning: The twython library has not been installed. Some functionality from the twitter package will not be available.\n",
      "  warnings.warn(\"The twython library has not been installed. \"\n"
     ]
    }
   ],
   "source": [
    "from nltk.sentiment import SentimentIntensityAnalyzer\n",
    "from tqdm.notebook import tqdm\n",
    "\n",
    "sia = SentimentIntensityAnalyzer()"
   ]
  },
  {
   "cell_type": "code",
   "execution_count": 10,
   "id": "e893f11c",
   "metadata": {
    "execution": {
     "iopub.execute_input": "2024-05-23T21:20:19.555986Z",
     "iopub.status.busy": "2024-05-23T21:20:19.555677Z",
     "iopub.status.idle": "2024-05-23T21:20:19.561742Z",
     "shell.execute_reply": "2024-05-23T21:20:19.560929Z"
    },
    "papermill": {
     "duration": 0.019814,
     "end_time": "2024-05-23T21:20:19.563594",
     "exception": false,
     "start_time": "2024-05-23T21:20:19.543780",
     "status": "completed"
    },
    "tags": []
   },
   "outputs": [
    {
     "data": {
      "text/plain": [
       "{'neg': 0.0, 'neu': 0.334, 'pos': 0.666, 'compound': 0.6115}"
      ]
     },
     "execution_count": 10,
     "metadata": {},
     "output_type": "execute_result"
    }
   ],
   "source": [
    "sia.polarity_scores('I am so happy')"
   ]
  },
  {
   "cell_type": "code",
   "execution_count": 11,
   "id": "2efeb7e2",
   "metadata": {
    "execution": {
     "iopub.execute_input": "2024-05-23T21:20:19.588372Z",
     "iopub.status.busy": "2024-05-23T21:20:19.588088Z",
     "iopub.status.idle": "2024-05-23T21:20:19.594114Z",
     "shell.execute_reply": "2024-05-23T21:20:19.593316Z"
    },
    "papermill": {
     "duration": 0.020994,
     "end_time": "2024-05-23T21:20:19.596221",
     "exception": false,
     "start_time": "2024-05-23T21:20:19.575227",
     "status": "completed"
    },
    "tags": []
   },
   "outputs": [
    {
     "data": {
      "text/plain": [
       "{'neg': 0.451, 'neu': 0.549, 'pos': 0.0, 'compound': -0.6249}"
      ]
     },
     "execution_count": 11,
     "metadata": {},
     "output_type": "execute_result"
    }
   ],
   "source": [
    "sia.polarity_scores('This is the worst thing ever')"
   ]
  },
  {
   "cell_type": "code",
   "execution_count": 12,
   "id": "f1952f4f",
   "metadata": {
    "execution": {
     "iopub.execute_input": "2024-05-23T21:20:19.620681Z",
     "iopub.status.busy": "2024-05-23T21:20:19.619966Z",
     "iopub.status.idle": "2024-05-23T21:20:19.627012Z",
     "shell.execute_reply": "2024-05-23T21:20:19.626239Z"
    },
    "papermill": {
     "duration": 0.021233,
     "end_time": "2024-05-23T21:20:19.628926",
     "exception": false,
     "start_time": "2024-05-23T21:20:19.607693",
     "status": "completed"
    },
    "tags": []
   },
   "outputs": [
    {
     "data": {
      "text/plain": [
       "{'neg': 0.053, 'neu': 0.922, 'pos': 0.025, 'compound': -0.3637}"
      ]
     },
     "execution_count": 12,
     "metadata": {},
     "output_type": "execute_result"
    }
   ],
   "source": [
    "sia.polarity_scores(example)"
   ]
  },
  {
   "cell_type": "code",
   "execution_count": 13,
   "id": "7a4b7ee8",
   "metadata": {
    "execution": {
     "iopub.execute_input": "2024-05-23T21:20:19.653853Z",
     "iopub.status.busy": "2024-05-23T21:20:19.653583Z",
     "iopub.status.idle": "2024-05-23T21:20:19.959321Z",
     "shell.execute_reply": "2024-05-23T21:20:19.958428Z"
    },
    "papermill": {
     "duration": 0.321609,
     "end_time": "2024-05-23T21:20:19.961600",
     "exception": false,
     "start_time": "2024-05-23T21:20:19.639991",
     "status": "completed"
    },
    "tags": []
   },
   "outputs": [
    {
     "data": {
      "application/vnd.jupyter.widget-view+json": {
       "model_id": "90b7f3a67e1e4fccb7182efbd3a97cd0",
       "version_major": 2,
       "version_minor": 0
      },
      "text/plain": [
       "  0%|          | 0/500 [00:00<?, ?it/s]"
      ]
     },
     "metadata": {},
     "output_type": "display_data"
    }
   ],
   "source": [
    "#Run the polarity score on the entire dataset\n",
    "res = {}\n",
    "for i, row in tqdm(df.iterrows(), total=len(df)):\n",
    "    text = row['Review']\n",
    "    myid = row['Product_name']\n",
    "    res[myid] = sia.polarity_scores(text)\n",
    "    "
   ]
  },
  {
   "cell_type": "code",
   "execution_count": 14,
   "id": "18a90c01",
   "metadata": {
    "execution": {
     "iopub.execute_input": "2024-05-23T21:20:19.985007Z",
     "iopub.status.busy": "2024-05-23T21:20:19.984712Z",
     "iopub.status.idle": "2024-05-23T21:20:19.998662Z",
     "shell.execute_reply": "2024-05-23T21:20:19.997949Z"
    },
    "papermill": {
     "duration": 0.02794,
     "end_time": "2024-05-23T21:20:20.000578",
     "exception": false,
     "start_time": "2024-05-23T21:20:19.972638",
     "status": "completed"
    },
    "tags": []
   },
   "outputs": [],
   "source": [
    "vaders = pd.DataFrame(res).T\n",
    "vaders = vaders.reset_index().rename(columns={'index':'Product_name'})\n",
    "vaders = vaders.merge(df, how='left')\n"
   ]
  },
  {
   "cell_type": "code",
   "execution_count": 15,
   "id": "969072a6",
   "metadata": {
    "execution": {
     "iopub.execute_input": "2024-05-23T21:20:20.023896Z",
     "iopub.status.busy": "2024-05-23T21:20:20.023621Z",
     "iopub.status.idle": "2024-05-23T21:20:20.036413Z",
     "shell.execute_reply": "2024-05-23T21:20:20.035625Z"
    },
    "papermill": {
     "duration": 0.026767,
     "end_time": "2024-05-23T21:20:20.038261",
     "exception": false,
     "start_time": "2024-05-23T21:20:20.011494",
     "status": "completed"
    },
    "tags": []
   },
   "outputs": [
    {
     "data": {
      "text/html": [
       "<div>\n",
       "<style scoped>\n",
       "    .dataframe tbody tr th:only-of-type {\n",
       "        vertical-align: middle;\n",
       "    }\n",
       "\n",
       "    .dataframe tbody tr th {\n",
       "        vertical-align: top;\n",
       "    }\n",
       "\n",
       "    .dataframe thead th {\n",
       "        text-align: right;\n",
       "    }\n",
       "</style>\n",
       "<table border=\"1\" class=\"dataframe\">\n",
       "  <thead>\n",
       "    <tr style=\"text-align: right;\">\n",
       "      <th></th>\n",
       "      <th>Product_name</th>\n",
       "      <th>neg</th>\n",
       "      <th>neu</th>\n",
       "      <th>pos</th>\n",
       "      <th>compound</th>\n",
       "      <th>Review</th>\n",
       "      <th>Rating</th>\n",
       "    </tr>\n",
       "  </thead>\n",
       "  <tbody>\n",
       "    <tr>\n",
       "      <th>0</th>\n",
       "      <td>Lenovo Ideapad Gaming 3 Ryzen 5 Hexa Core 5600...</td>\n",
       "      <td>0.0</td>\n",
       "      <td>0.881</td>\n",
       "      <td>0.119</td>\n",
       "      <td>0.5789</td>\n",
       "      <td>Best under 60k Great performanceI got it for a...</td>\n",
       "      <td>5</td>\n",
       "    </tr>\n",
       "    <tr>\n",
       "      <th>1</th>\n",
       "      <td>Lenovo Ideapad Gaming 3 Ryzen 5 Hexa Core 5600...</td>\n",
       "      <td>0.0</td>\n",
       "      <td>0.881</td>\n",
       "      <td>0.119</td>\n",
       "      <td>0.5789</td>\n",
       "      <td>Good perfomence...</td>\n",
       "      <td>5</td>\n",
       "    </tr>\n",
       "    <tr>\n",
       "      <th>2</th>\n",
       "      <td>Lenovo Ideapad Gaming 3 Ryzen 5 Hexa Core 5600...</td>\n",
       "      <td>0.0</td>\n",
       "      <td>0.881</td>\n",
       "      <td>0.119</td>\n",
       "      <td>0.5789</td>\n",
       "      <td>Great performance but usually it has also that...</td>\n",
       "      <td>5</td>\n",
       "    </tr>\n",
       "    <tr>\n",
       "      <th>3</th>\n",
       "      <td>DELL Inspiron Athlon Dual Core 3050U - (4 GB/2...</td>\n",
       "      <td>0.0</td>\n",
       "      <td>0.672</td>\n",
       "      <td>0.328</td>\n",
       "      <td>0.2382</td>\n",
       "      <td>My wife is so happy and best product 👌🏻😘</td>\n",
       "      <td>5</td>\n",
       "    </tr>\n",
       "    <tr>\n",
       "      <th>4</th>\n",
       "      <td>DELL Inspiron Athlon Dual Core 3050U - (4 GB/2...</td>\n",
       "      <td>0.0</td>\n",
       "      <td>0.672</td>\n",
       "      <td>0.328</td>\n",
       "      <td>0.2382</td>\n",
       "      <td>Light weight laptop with new amazing features,...</td>\n",
       "      <td>5</td>\n",
       "    </tr>\n",
       "  </tbody>\n",
       "</table>\n",
       "</div>"
      ],
      "text/plain": [
       "                                        Product_name  neg    neu    pos  \\\n",
       "0  Lenovo Ideapad Gaming 3 Ryzen 5 Hexa Core 5600...  0.0  0.881  0.119   \n",
       "1  Lenovo Ideapad Gaming 3 Ryzen 5 Hexa Core 5600...  0.0  0.881  0.119   \n",
       "2  Lenovo Ideapad Gaming 3 Ryzen 5 Hexa Core 5600...  0.0  0.881  0.119   \n",
       "3  DELL Inspiron Athlon Dual Core 3050U - (4 GB/2...  0.0  0.672  0.328   \n",
       "4  DELL Inspiron Athlon Dual Core 3050U - (4 GB/2...  0.0  0.672  0.328   \n",
       "\n",
       "   compound                                             Review  Rating  \n",
       "0    0.5789  Best under 60k Great performanceI got it for a...       5  \n",
       "1    0.5789                                 Good perfomence...       5  \n",
       "2    0.5789  Great performance but usually it has also that...       5  \n",
       "3    0.2382           My wife is so happy and best product 👌🏻😘       5  \n",
       "4    0.2382  Light weight laptop with new amazing features,...       5  "
      ]
     },
     "execution_count": 15,
     "metadata": {},
     "output_type": "execute_result"
    }
   ],
   "source": [
    "#Now we have sentiment score and metadat\n",
    "vaders.head()"
   ]
  },
  {
   "cell_type": "markdown",
   "id": "06dca581",
   "metadata": {
    "papermill": {
     "duration": 0.011315,
     "end_time": "2024-05-23T21:20:20.061046",
     "exception": false,
     "start_time": "2024-05-23T21:20:20.049731",
     "status": "completed"
    },
    "tags": []
   },
   "source": [
    "# Plot Vader Results"
   ]
  },
  {
   "cell_type": "code",
   "execution_count": 16,
   "id": "ad896b1d",
   "metadata": {
    "execution": {
     "iopub.execute_input": "2024-05-23T21:20:20.085157Z",
     "iopub.status.busy": "2024-05-23T21:20:20.084793Z",
     "iopub.status.idle": "2024-05-23T21:20:20.464532Z",
     "shell.execute_reply": "2024-05-23T21:20:20.463630Z"
    },
    "papermill": {
     "duration": 0.394539,
     "end_time": "2024-05-23T21:20:20.466924",
     "exception": false,
     "start_time": "2024-05-23T21:20:20.072385",
     "status": "completed"
    },
    "tags": []
   },
   "outputs": [
    {
     "data": {
      "image/png": "[encoded data removed]",
      "text/plain": [
       "<Figure size 640x480 with 1 Axes>"
      ]
     },
     "metadata": {},
     "output_type": "display_data"
    }
   ],
   "source": [
    "ax = sns.barplot(data=vaders, x = \"Rating\", y='compound')\n",
    "ax.set_title('Compound Score by Amazon Star Review')\n",
    "plt.show()"
   ]
  },
  {
   "cell_type": "code",
   "execution_count": 17,
   "id": "8ccebf26",
   "metadata": {
    "execution": {
     "iopub.execute_input": "2024-05-23T21:20:20.492379Z",
     "iopub.status.busy": "2024-05-23T21:20:20.492069Z",
     "iopub.status.idle": "2024-05-23T21:20:21.529026Z",
     "shell.execute_reply": "2024-05-23T21:20:21.528144Z"
    },
    "papermill": {
     "duration": 1.052056,
     "end_time": "2024-05-23T21:20:21.531426",
     "exception": false,
     "start_time": "2024-05-23T21:20:20.479370",
     "status": "completed"
    },
    "tags": []
   },
   "outputs": [
    {
     "data": {
      "image/png": "[encoded data removed]",
      "text/plain": [
       "<Figure size 1500x500 with 3 Axes>"
      ]
     },
     "metadata": {},
     "output_type": "display_data"
    }
   ],
   "source": [
    "fig, axs = plt.subplots(1,3,figsize=(15, 5))\n",
    "sns.barplot(data=vaders, x=\"Rating\", y=\"pos\", ax = axs[0])\n",
    "sns.barplot(data=vaders, x=\"Rating\", y=\"neu\", ax = axs[1])\n",
    "sns.barplot(data=vaders, x=\"Rating\", y=\"neg\", ax = axs[2])\n",
    "axs[0].set_title('Positive')\n",
    "axs[1].set_title('Neutral')\n",
    "axs[2].set_title('Negative')\n",
    "plt.show()"
   ]
  },
  {
   "cell_type": "markdown",
   "id": "ae4e0331",
   "metadata": {
    "papermill": {
     "duration": 0.012398,
     "end_time": "2024-05-23T21:20:21.557060",
     "exception": false,
     "start_time": "2024-05-23T21:20:21.544662",
     "status": "completed"
    },
    "tags": []
   },
   "source": [
    "from transformers import AutoTokenizer"
   ]
  },
  {
   "cell_type": "markdown",
   "id": "2d015681",
   "metadata": {
    "papermill": {
     "duration": 0.012176,
     "end_time": "2024-05-23T21:20:21.581328",
     "exception": false,
     "start_time": "2024-05-23T21:20:21.569152",
     "status": "completed"
    },
    "tags": []
   },
   "source": []
  },
  {
   "cell_type": "code",
   "execution_count": 18,
   "id": "11e2ddfd",
   "metadata": {
    "execution": {
     "iopub.execute_input": "2024-05-23T21:20:21.607180Z",
     "iopub.status.busy": "2024-05-23T21:20:21.606840Z",
     "iopub.status.idle": "2024-05-23T21:20:27.355793Z",
     "shell.execute_reply": "2024-05-23T21:20:27.354814Z"
    },
    "papermill": {
     "duration": 5.764701,
     "end_time": "2024-05-23T21:20:27.358223",
     "exception": false,
     "start_time": "2024-05-23T21:20:21.593522",
     "status": "completed"
    },
    "tags": []
   },
   "outputs": [],
   "source": [
    "from transformers import AutoTokenizer\n",
    "from transformers import AutoModelForSequenceClassification\n",
    "from scipy.special import softmax"
   ]
  },
  {
   "cell_type": "code",
   "execution_count": 19,
   "id": "acbb0a3b",
   "metadata": {
    "execution": {
     "iopub.execute_input": "2024-05-23T21:20:27.384751Z",
     "iopub.status.busy": "2024-05-23T21:20:27.384218Z",
     "iopub.status.idle": "2024-05-23T21:20:33.622089Z",
     "shell.execute_reply": "2024-05-23T21:20:33.621265Z"
    },
    "papermill": {
     "duration": 6.253588,
     "end_time": "2024-05-23T21:20:33.624403",
     "exception": false,
     "start_time": "2024-05-23T21:20:27.370815",
     "status": "completed"
    },
    "tags": []
   },
   "outputs": [
    {
     "data": {
      "application/vnd.jupyter.widget-view+json": {
       "model_id": "e1253bd126614728807927834498f526",
       "version_major": 2,
       "version_minor": 0
      },
      "text/plain": [
       "config.json:   0%|          | 0.00/747 [00:00<?, ?B/s]"
      ]
     },
     "metadata": {},
     "output_type": "display_data"
    },
    {
     "data": {
      "application/vnd.jupyter.widget-view+json": {
       "model_id": "cf349ba045524ee4be186b859320e67f",
       "version_major": 2,
       "version_minor": 0
      },
      "text/plain": [
       "vocab.json:   0%|          | 0.00/899k [00:00<?, ?B/s]"
      ]
     },
     "metadata": {},
     "output_type": "display_data"
    },
    {
     "data": {
      "application/vnd.jupyter.widget-view+json": {
       "model_id": "aef9bab68d9341a59953f6c2e9512498",
       "version_major": 2,
       "version_minor": 0
      },
      "text/plain": [
       "merges.txt:   0%|          | 0.00/456k [00:00<?, ?B/s]"
      ]
     },
     "metadata": {},
     "output_type": "display_data"
    },
    {
     "data": {
      "application/vnd.jupyter.widget-view+json": {
       "model_id": "4c97a7ff61ec4ce48b7810a2cdf5777a",
       "version_major": 2,
       "version_minor": 0
      },
      "text/plain": [
       "special_tokens_map.json:   0%|          | 0.00/150 [00:00<?, ?B/s]"
      ]
     },
     "metadata": {},
     "output_type": "display_data"
    },
    {
     "data": {
      "application/vnd.jupyter.widget-view+json": {
       "model_id": "90b57ea29ae14598aa7b0807542bde4b",
       "version_major": 2,
       "version_minor": 0
      },
      "text/plain": [
       "pytorch_model.bin:   0%|          | 0.00/499M [00:00<?, ?B/s]"
      ]
     },
     "metadata": {},
     "output_type": "display_data"
    },
    {
     "name": "stderr",
     "output_type": "stream",
     "text": [
      "/opt/conda/lib/python3.10/site-packages/torch/_utils.py:831: UserWarning: TypedStorage is deprecated. It will be removed in the future and UntypedStorage will be the only storage class. This should only matter to you if you are using storages directly.  To access UntypedStorage directly, use tensor.untyped_storage() instead of tensor.storage()\n",
      "  return self.fget.__get__(instance, owner)()\n"
     ]
    }
   ],
   "source": [
    "MODEL = f\"cardiffnlp/twitter-roberta-base-sentiment\"\n",
    "tokenizer = AutoTokenizer.from_pretrained(MODEL)\n",
    "model = AutoModelForSequenceClassification.from_pretrained(MODEL)"
   ]
  },
  {
   "cell_type": "code",
   "execution_count": 20,
   "id": "e2f6066e",
   "metadata": {
    "execution": {
     "iopub.execute_input": "2024-05-23T21:20:33.652303Z",
     "iopub.status.busy": "2024-05-23T21:20:33.651769Z",
     "iopub.status.idle": "2024-05-23T21:20:33.659373Z",
     "shell.execute_reply": "2024-05-23T21:20:33.658420Z"
    },
    "papermill": {
     "duration": 0.023919,
     "end_time": "2024-05-23T21:20:33.661737",
     "exception": false,
     "start_time": "2024-05-23T21:20:33.637818",
     "status": "completed"
    },
    "tags": []
   },
   "outputs": [
    {
     "name": "stdout",
     "output_type": "stream",
     "text": [
      "Read this if you're going to buy any laptopMy advice is please not to look brand in buying laptops .The laptops with same specs of brands hp,full,aver,lenovo,asus etc are same To get to for minimum cost try asusDont feel asus is not as good as hp or dellFor this laptopPros- ●high speed boot up(faster than mac pro)● intel i3 good performance if your use is home,student,and coding●extra slot for ram.if you add 8 gb ram(you can get for just 2500 in flipkart and can add it yourself)You ...\n"
     ]
    },
    {
     "data": {
      "text/plain": [
       "{'neg': 0.053, 'neu': 0.922, 'pos': 0.025, 'compound': -0.3637}"
      ]
     },
     "execution_count": 20,
     "metadata": {},
     "output_type": "execute_result"
    }
   ],
   "source": [
    "# VADER results on example\n",
    "print(example)\n",
    "sia.polarity_scores(example)"
   ]
  },
  {
   "cell_type": "code",
   "execution_count": 21,
   "id": "2ecbae67",
   "metadata": {
    "execution": {
     "iopub.execute_input": "2024-05-23T21:20:33.690150Z",
     "iopub.status.busy": "2024-05-23T21:20:33.689875Z",
     "iopub.status.idle": "2024-05-23T21:20:34.009897Z",
     "shell.execute_reply": "2024-05-23T21:20:34.008668Z"
    },
    "papermill": {
     "duration": 0.336621,
     "end_time": "2024-05-23T21:20:34.012276",
     "exception": false,
     "start_time": "2024-05-23T21:20:33.675655",
     "status": "completed"
    },
    "tags": []
   },
   "outputs": [
    {
     "name": "stdout",
     "output_type": "stream",
     "text": [
      "{'roberta_neg': 0.12891787, 'roberta_neu': 0.46794707, 'roberta_pos': 0.40313506}\n"
     ]
    }
   ],
   "source": [
    "# Run for Roberta Model\n",
    "encoded_text = tokenizer(example, return_tensors='pt')\n",
    "output = model(**encoded_text)\n",
    "scores = output[0][0].detach().numpy()\n",
    "scores = softmax(scores)\n",
    "scores_dict = {\n",
    "    'roberta_neg' : scores[0],\n",
    "    'roberta_neu' : scores[1],\n",
    "    'roberta_pos' : scores[2]\n",
    "}\n",
    "print(scores_dict)"
   ]
  },
  {
   "cell_type": "code",
   "execution_count": 22,
   "id": "991402af",
   "metadata": {
    "execution": {
     "iopub.execute_input": "2024-05-23T21:20:34.041446Z",
     "iopub.status.busy": "2024-05-23T21:20:34.041087Z",
     "iopub.status.idle": "2024-05-23T21:20:34.046564Z",
     "shell.execute_reply": "2024-05-23T21:20:34.045719Z"
    },
    "papermill": {
     "duration": 0.021936,
     "end_time": "2024-05-23T21:20:34.048432",
     "exception": false,
     "start_time": "2024-05-23T21:20:34.026496",
     "status": "completed"
    },
    "tags": []
   },
   "outputs": [],
   "source": [
    "def polarity_scores_roberta(example):\n",
    "    encoded_text = tokenizer(example, return_tensors='pt')\n",
    "    output = model(**encoded_text)\n",
    "    scores = output[0][0].detach().numpy()\n",
    "    scores = softmax(scores)\n",
    "    scores_dict = {\n",
    "        'roberta_neg' : scores[0],\n",
    "        'roberta_neu' : scores[1],\n",
    "        'roberta_pos' : scores[2]\n",
    "    }\n",
    "    return scores_dict"
   ]
  },
  {
   "cell_type": "code",
   "execution_count": 23,
   "id": "846f3186",
   "metadata": {
    "execution": {
     "iopub.execute_input": "2024-05-23T21:20:34.076073Z",
     "iopub.status.busy": "2024-05-23T21:20:34.075795Z",
     "iopub.status.idle": "2024-05-23T21:21:15.529689Z",
     "shell.execute_reply": "2024-05-23T21:21:15.528693Z"
    },
    "papermill": {
     "duration": 41.470127,
     "end_time": "2024-05-23T21:21:15.531824",
     "exception": false,
     "start_time": "2024-05-23T21:20:34.061697",
     "status": "completed"
    },
    "tags": []
   },
   "outputs": [
    {
     "data": {
      "application/vnd.jupyter.widget-view+json": {
       "model_id": "2e59644968ff412c9617c99a75bf1a41",
       "version_major": 2,
       "version_minor": 0
      },
      "text/plain": [
       "  0%|          | 0/500 [00:00<?, ?it/s]"
      ]
     },
     "metadata": {},
     "output_type": "display_data"
    }
   ],
   "source": [
    "res = {}\n",
    "for i, row in tqdm(df.iterrows(), total=len(df)):\n",
    "    try:\n",
    "        text = row['Review']\n",
    "        myid = row['Product_name']\n",
    "        vader_result = sia.polarity_scores(text)\n",
    "        vader_result_rename = {}\n",
    "        for key, value in vader_result.items():\n",
    "            vader_result_rename[f\"vader_{key}\"] = value\n",
    "\n",
    "        roberta_result = polarity_scores_roberta(text)\n",
    "        both = {**vader_result_rename, **roberta_result}\n",
    "        res[myid] = both\n",
    "    except RuntimeError:\n",
    "        print(f'Broke for id {myid}')"
   ]
  },
  {
   "cell_type": "code",
   "execution_count": 24,
   "id": "62453e53",
   "metadata": {
    "execution": {
     "iopub.execute_input": "2024-05-23T21:21:15.561015Z",
     "iopub.status.busy": "2024-05-23T21:21:15.560684Z",
     "iopub.status.idle": "2024-05-23T21:21:15.571758Z",
     "shell.execute_reply": "2024-05-23T21:21:15.570827Z"
    },
    "papermill": {
     "duration": 0.027578,
     "end_time": "2024-05-23T21:21:15.573751",
     "exception": false,
     "start_time": "2024-05-23T21:21:15.546173",
     "status": "completed"
    },
    "tags": []
   },
   "outputs": [],
   "source": [
    "results_df = pd.DataFrame(res).T\n",
    "results_df = results_df.reset_index().rename(columns={'index':'Product_name'})\n",
    "results_df = results_df.merge(df, how='left')"
   ]
  },
  {
   "cell_type": "code",
   "execution_count": 25,
   "id": "2375a761",
   "metadata": {
    "execution": {
     "iopub.execute_input": "2024-05-23T21:21:15.602181Z",
     "iopub.status.busy": "2024-05-23T21:21:15.601863Z",
     "iopub.status.idle": "2024-05-23T21:21:15.616819Z",
     "shell.execute_reply": "2024-05-23T21:21:15.615951Z"
    },
    "papermill": {
     "duration": 0.031331,
     "end_time": "2024-05-23T21:21:15.618659",
     "exception": false,
     "start_time": "2024-05-23T21:21:15.587328",
     "status": "completed"
    },
    "tags": []
   },
   "outputs": [
    {
     "data": {
      "text/html": [
       "<div>\n",
       "<style scoped>\n",
       "    .dataframe tbody tr th:only-of-type {\n",
       "        vertical-align: middle;\n",
       "    }\n",
       "\n",
       "    .dataframe tbody tr th {\n",
       "        vertical-align: top;\n",
       "    }\n",
       "\n",
       "    .dataframe thead th {\n",
       "        text-align: right;\n",
       "    }\n",
       "</style>\n",
       "<table border=\"1\" class=\"dataframe\">\n",
       "  <thead>\n",
       "    <tr style=\"text-align: right;\">\n",
       "      <th></th>\n",
       "      <th>Product_name</th>\n",
       "      <th>vader_neg</th>\n",
       "      <th>vader_neu</th>\n",
       "      <th>vader_pos</th>\n",
       "      <th>vader_compound</th>\n",
       "      <th>roberta_neg</th>\n",
       "      <th>roberta_neu</th>\n",
       "      <th>roberta_pos</th>\n",
       "      <th>Review</th>\n",
       "      <th>Rating</th>\n",
       "    </tr>\n",
       "  </thead>\n",
       "  <tbody>\n",
       "    <tr>\n",
       "      <th>0</th>\n",
       "      <td>Lenovo Ideapad Gaming 3 Ryzen 5 Hexa Core 5600...</td>\n",
       "      <td>0.0</td>\n",
       "      <td>0.881</td>\n",
       "      <td>0.119</td>\n",
       "      <td>0.5789</td>\n",
       "      <td>0.077736</td>\n",
       "      <td>0.282267</td>\n",
       "      <td>0.639997</td>\n",
       "      <td>Best under 60k Great performanceI got it for a...</td>\n",
       "      <td>5</td>\n",
       "    </tr>\n",
       "    <tr>\n",
       "      <th>1</th>\n",
       "      <td>Lenovo Ideapad Gaming 3 Ryzen 5 Hexa Core 5600...</td>\n",
       "      <td>0.0</td>\n",
       "      <td>0.881</td>\n",
       "      <td>0.119</td>\n",
       "      <td>0.5789</td>\n",
       "      <td>0.077736</td>\n",
       "      <td>0.282267</td>\n",
       "      <td>0.639997</td>\n",
       "      <td>Good perfomence...</td>\n",
       "      <td>5</td>\n",
       "    </tr>\n",
       "    <tr>\n",
       "      <th>2</th>\n",
       "      <td>Lenovo Ideapad Gaming 3 Ryzen 5 Hexa Core 5600...</td>\n",
       "      <td>0.0</td>\n",
       "      <td>0.881</td>\n",
       "      <td>0.119</td>\n",
       "      <td>0.5789</td>\n",
       "      <td>0.077736</td>\n",
       "      <td>0.282267</td>\n",
       "      <td>0.639997</td>\n",
       "      <td>Great performance but usually it has also that...</td>\n",
       "      <td>5</td>\n",
       "    </tr>\n",
       "    <tr>\n",
       "      <th>3</th>\n",
       "      <td>DELL Inspiron Athlon Dual Core 3050U - (4 GB/2...</td>\n",
       "      <td>0.0</td>\n",
       "      <td>0.672</td>\n",
       "      <td>0.328</td>\n",
       "      <td>0.2382</td>\n",
       "      <td>0.093249</td>\n",
       "      <td>0.393783</td>\n",
       "      <td>0.512968</td>\n",
       "      <td>My wife is so happy and best product 👌🏻😘</td>\n",
       "      <td>5</td>\n",
       "    </tr>\n",
       "    <tr>\n",
       "      <th>4</th>\n",
       "      <td>DELL Inspiron Athlon Dual Core 3050U - (4 GB/2...</td>\n",
       "      <td>0.0</td>\n",
       "      <td>0.672</td>\n",
       "      <td>0.328</td>\n",
       "      <td>0.2382</td>\n",
       "      <td>0.093249</td>\n",
       "      <td>0.393783</td>\n",
       "      <td>0.512968</td>\n",
       "      <td>Light weight laptop with new amazing features,...</td>\n",
       "      <td>5</td>\n",
       "    </tr>\n",
       "  </tbody>\n",
       "</table>\n",
       "</div>"
      ],
      "text/plain": [
       "                                        Product_name  vader_neg  vader_neu  \\\n",
       "0  Lenovo Ideapad Gaming 3 Ryzen 5 Hexa Core 5600...        0.0      0.881   \n",
       "1  Lenovo Ideapad Gaming 3 Ryzen 5 Hexa Core 5600...        0.0      0.881   \n",
       "2  Lenovo Ideapad Gaming 3 Ryzen 5 Hexa Core 5600...        0.0      0.881   \n",
       "3  DELL Inspiron Athlon Dual Core 3050U - (4 GB/2...        0.0      0.672   \n",
       "4  DELL Inspiron Athlon Dual Core 3050U - (4 GB/2...        0.0      0.672   \n",
       "\n",
       "   vader_pos  vader_compound  roberta_neg  roberta_neu  roberta_pos  \\\n",
       "0      0.119          0.5789     0.077736     0.282267     0.639997   \n",
       "1      0.119          0.5789     0.077736     0.282267     0.639997   \n",
       "2      0.119          0.5789     0.077736     0.282267     0.639997   \n",
       "3      0.328          0.2382     0.093249     0.393783     0.512968   \n",
       "4      0.328          0.2382     0.093249     0.393783     0.512968   \n",
       "\n",
       "                                              Review  Rating  \n",
       "0  Best under 60k Great performanceI got it for a...       5  \n",
       "1                                 Good perfomence...       5  \n",
       "2  Great performance but usually it has also that...       5  \n",
       "3           My wife is so happy and best product 👌🏻😘       5  \n",
       "4  Light weight laptop with new amazing features,...       5  "
      ]
     },
     "execution_count": 25,
     "metadata": {},
     "output_type": "execute_result"
    }
   ],
   "source": [
    "results_df.head()"
   ]
  },
  {
   "cell_type": "markdown",
   "id": "7ac3506f",
   "metadata": {
    "papermill": {
     "duration": 0.013984,
     "end_time": "2024-05-23T21:21:15.646484",
     "exception": false,
     "start_time": "2024-05-23T21:21:15.632500",
     "status": "completed"
    },
    "tags": []
   },
   "source": [
    "# Compare Scores between Models"
   ]
  },
  {
   "cell_type": "code",
   "execution_count": 26,
   "id": "7331d580",
   "metadata": {
    "execution": {
     "iopub.execute_input": "2024-05-23T21:21:15.676272Z",
     "iopub.status.busy": "2024-05-23T21:21:15.675569Z",
     "iopub.status.idle": "2024-05-23T21:21:15.681519Z",
     "shell.execute_reply": "2024-05-23T21:21:15.680748Z"
    },
    "papermill": {
     "duration": 0.023181,
     "end_time": "2024-05-23T21:21:15.683463",
     "exception": false,
     "start_time": "2024-05-23T21:21:15.660282",
     "status": "completed"
    },
    "tags": []
   },
   "outputs": [
    {
     "data": {
      "text/plain": [
       "Index(['Product_name', 'vader_neg', 'vader_neu', 'vader_pos', 'vader_compound',\n",
       "       'roberta_neg', 'roberta_neu', 'roberta_pos', 'Review', 'Rating'],\n",
       "      dtype='object')"
      ]
     },
     "execution_count": 26,
     "metadata": {},
     "output_type": "execute_result"
    }
   ],
   "source": [
    "results_df.columns"
   ]
  },
  {
   "cell_type": "code",
   "execution_count": 27,
   "id": "37d6d4ea",
   "metadata": {
    "execution": {
     "iopub.execute_input": "2024-05-23T21:21:15.754385Z",
     "iopub.status.busy": "2024-05-23T21:21:15.753680Z",
     "iopub.status.idle": "2024-05-23T21:21:30.527351Z",
     "shell.execute_reply": "2024-05-23T21:21:30.526491Z"
    },
    "papermill": {
     "duration": 14.793958,
     "end_time": "2024-05-23T21:21:30.532421",
     "exception": false,
     "start_time": "2024-05-23T21:21:15.738463",
     "status": "completed"
    },
    "tags": []
   },
   "outputs": [
    {
     "name": "stderr",
     "output_type": "stream",
     "text": [
      "/opt/conda/lib/python3.10/site-packages/seaborn/_oldcore.py:1119: FutureWarning: use_inf_as_na option is deprecated and will be removed in a future version. Convert inf values to NaN before operating instead.\n",
      "  with pd.option_context('mode.use_inf_as_na', True):\n",
      "/opt/conda/lib/python3.10/site-packages/seaborn/_oldcore.py:1075: FutureWarning: When grouping with a length-1 list-like, you will need to pass a length-1 tuple to get_group in a future version of pandas. Pass `(name,)` instead of `name` to silence this warning.\n",
      "  data_subset = grouped_data.get_group(pd_key)\n",
      "/opt/conda/lib/python3.10/site-packages/seaborn/_oldcore.py:1119: FutureWarning: use_inf_as_na option is deprecated and will be removed in a future version. Convert inf values to NaN before operating instead.\n",
      "  with pd.option_context('mode.use_inf_as_na', True):\n",
      "/opt/conda/lib/python3.10/site-packages/seaborn/_oldcore.py:1075: FutureWarning: When grouping with a length-1 list-like, you will need to pass a length-1 tuple to get_group in a future version of pandas. Pass `(name,)` instead of `name` to silence this warning.\n",
      "  data_subset = grouped_data.get_group(pd_key)\n",
      "/opt/conda/lib/python3.10/site-packages/seaborn/_oldcore.py:1119: FutureWarning: use_inf_as_na option is deprecated and will be removed in a future version. Convert inf values to NaN before operating instead.\n",
      "  with pd.option_context('mode.use_inf_as_na', True):\n",
      "/opt/conda/lib/python3.10/site-packages/seaborn/_oldcore.py:1075: FutureWarning: When grouping with a length-1 list-like, you will need to pass a length-1 tuple to get_group in a future version of pandas. Pass `(name,)` instead of `name` to silence this warning.\n",
      "  data_subset = grouped_data.get_group(pd_key)\n",
      "/opt/conda/lib/python3.10/site-packages/seaborn/_oldcore.py:1119: FutureWarning: use_inf_as_na option is deprecated and will be removed in a future version. Convert inf values to NaN before operating instead.\n",
      "  with pd.option_context('mode.use_inf_as_na', True):\n",
      "/opt/conda/lib/python3.10/site-packages/seaborn/_oldcore.py:1075: FutureWarning: When grouping with a length-1 list-like, you will need to pass a length-1 tuple to get_group in a future version of pandas. Pass `(name,)` instead of `name` to silence this warning.\n",
      "  data_subset = grouped_data.get_group(pd_key)\n",
      "/opt/conda/lib/python3.10/site-packages/seaborn/_oldcore.py:1119: FutureWarning: use_inf_as_na option is deprecated and will be removed in a future version. Convert inf values to NaN before operating instead.\n",
      "  with pd.option_context('mode.use_inf_as_na', True):\n",
      "/opt/conda/lib/python3.10/site-packages/seaborn/_oldcore.py:1075: FutureWarning: When grouping with a length-1 list-like, you will need to pass a length-1 tuple to get_group in a future version of pandas. Pass `(name,)` instead of `name` to silence this warning.\n",
      "  data_subset = grouped_data.get_group(pd_key)\n",
      "/opt/conda/lib/python3.10/site-packages/seaborn/_oldcore.py:1119: FutureWarning: use_inf_as_na option is deprecated and will be removed in a future version. Convert inf values to NaN before operating instead.\n",
      "  with pd.option_context('mode.use_inf_as_na', True):\n",
      "/opt/conda/lib/python3.10/site-packages/seaborn/_oldcore.py:1075: FutureWarning: When grouping with a length-1 list-like, you will need to pass a length-1 tuple to get_group in a future version of pandas. Pass `(name,)` instead of `name` to silence this warning.\n",
      "  data_subset = grouped_data.get_group(pd_key)\n"
     ]
    },
    {
     "data": {
      "image/png": "[encoded data removed]",
      "text/plain": [
       "<Figure size 1558.88x1500 with 42 Axes>"
      ]
     },
     "metadata": {},
     "output_type": "display_data"
    }
   ],
   "source": [
    "sns.pairplot(data = results_df, \n",
    "             vars = ['vader_neg', 'vader_neu', 'vader_pos',\n",
    "       'roberta_neg', 'roberta_neu', 'roberta_pos'],\n",
    "            hue = 'Rating',\n",
    "            palette='tab10')\n",
    "plt.show()"
   ]
  },
  {
   "cell_type": "code",
   "execution_count": 28,
   "id": "e51a846a",
   "metadata": {
    "execution": {
     "iopub.execute_input": "2024-05-23T21:21:30.572134Z",
     "iopub.status.busy": "2024-05-23T21:21:30.571774Z",
     "iopub.status.idle": "2024-05-23T21:21:30.586412Z",
     "shell.execute_reply": "2024-05-23T21:21:30.585458Z"
    },
    "papermill": {
     "duration": 0.036624,
     "end_time": "2024-05-23T21:21:30.588451",
     "exception": false,
     "start_time": "2024-05-23T21:21:30.551827",
     "status": "completed"
    },
    "tags": []
   },
   "outputs": [
    {
     "data": {
      "text/plain": [
       "'Poor camera quality Infact same time not working Poor displayPoor performanceNothing is good in this set'"
      ]
     },
     "execution_count": 28,
     "metadata": {},
     "output_type": "execute_result"
    }
   ],
   "source": [
    "results_df.query('Rating == 1').sort_values('vader_pos', ascending = False)['Review'].values[0]"
   ]
  },
  {
   "cell_type": "code",
   "execution_count": 29,
   "id": "984e084b",
   "metadata": {
    "execution": {
     "iopub.execute_input": "2024-05-23T21:21:30.629391Z",
     "iopub.status.busy": "2024-05-23T21:21:30.628979Z",
     "iopub.status.idle": "2024-05-23T21:21:30.639846Z",
     "shell.execute_reply": "2024-05-23T21:21:30.639041Z"
    },
    "papermill": {
     "duration": 0.034493,
     "end_time": "2024-05-23T21:21:30.641666",
     "exception": false,
     "start_time": "2024-05-23T21:21:30.607173",
     "status": "completed"
    },
    "tags": []
   },
   "outputs": [
    {
     "data": {
      "text/plain": [
       "'This price range it’s super…..'"
      ]
     },
     "execution_count": 29,
     "metadata": {},
     "output_type": "execute_result"
    }
   ],
   "source": [
    "# negative sentiment 5 star review\n",
    "\n",
    "results_df.query('Rating == 5').sort_values('vader_neg', ascending = False)['Review'].values[0]"
   ]
  }
 ],
 "metadata": {
  "kaggle": {
   "accelerator": "gpu",
   "dataSources": [
    {
     "datasetId": 5072052,
     "sourceId": 8499445,
     "sourceType": "datasetVersion"
    }
   ],
   "dockerImageVersionId": 30699,
   "isGpuEnabled": true,
   "isInternetEnabled": true,
   "language": "python",
   "sourceType": "notebook"
  },
  "kernelspec": {
   "display_name": "Python 3",
   "language": "python",
   "name": "python3"
  },
  "language_info": {
   "codemirror_mode": {
    "name": "ipython",
    "version": 3
   },
   "file_extension": ".py",
   "mimetype": "text/x-python",
   "name": "python",
   "nbconvert_exporter": "python",
   "pygments_lexer": "ipython3",
   "version": "3.10.13"
  },
  "papermill": {
   "default_parameters": {},
   "duration": 80.21948,
   "end_time": "2024-05-23T21:21:33.491096",
   "environment_variables": {},
   "exception": null,
   "input_path": "__notebook__.ipynb",
   "output_path": "__notebook__.ipynb",
   "parameters": {},
   "start_time": "2024-05-23T21:20:13.271616",
   "version": "2.5.0"
  },
  "widgets": {
   "application/vnd.jupyter.widget-state+json": {
    "state": {
     "010aac71c7aa4b19826da366681c1a2f": {
      "model_module": "@jupyter-widgets/controls",
      "model_module_version": "1.5.0",
      "model_name": "DescriptionStyleModel",
      "state": {
       "_model_module": "@jupyter-widgets/controls",
       "_model_module_version": "1.5.0",
       "_model_name": "DescriptionStyleModel",
       "_view_count": null,
       "_view_module": "@jupyter-widgets/base",
       "_view_module_version": "1.2.0",
       "_view_name": "StyleView",
       "description_width": ""
      }
     },
     "01e644361234416b99dcb31bc8778085": {
      "model_module": "@jupyter-widgets/base",
      "model_module_version": "1.2.0",
      "model_name": "LayoutModel",
      "state": {
       "_model_module": "@jupyter-widgets/base",
       "_model_module_version": "1.2.0",
       "_model_name": "LayoutModel",
       "_view_count": null,
       "_view_module": "@jupyter-widgets/base",
       "_view_module_version": "1.2.0",
       "_view_name": "LayoutView",
       "align_content": null,
       "align_items": null,
       "align_self": null,
       "border": null,
       "bottom": null,
       "display": null,
       "flex": null,
       "flex_flow": null,
       "grid_area": null,
       "grid_auto_columns": null,
       "grid_auto_flow": null,
       "grid_auto_rows": null,
       "grid_column": null,
       "grid_gap": null,
       "grid_row": null,
       "grid_template_areas": null,
       "grid_template_columns": null,
       "grid_template_rows": null,
       "height": null,
       "justify_content": null,
       "justify_items": null,
       "left": null,
       "margin": null,
       "max_height": null,
       "max_width": null,
       "min_height": null,
       "min_width": null,
       "object_fit": null,
       "object_position": null,
       "order": null,
       "overflow": null,
       "overflow_x": null,
       "overflow_y": null,
       "padding": null,
       "right": null,
       "top": null,
       "visibility": null,
       "width": null
      }
     },
     "0562b07c64ac4b408e64549197f4c681": {
      "model_module": "@jupyter-widgets/base",
      "model_module_version": "1.2.0",
      "model_name": "LayoutModel",
      "state": {
       "_model_module": "@jupyter-widgets/base",
       "_model_module_version": "1.2.0",
       "_model_name": "LayoutModel",
       "_view_count": null,
       "_view_module": "@jupyter-widgets/base",
       "_view_module_version": "1.2.0",
       "_view_name": "LayoutView",
       "align_content": null,
       "align_items": null,
       "align_self": null,
       "border": null,
       "bottom": null,
       "display": null,
       "flex": null,
       "flex_flow": null,
       "grid_area": null,
       "grid_auto_columns": null,
       "grid_auto_flow": null,
       "grid_auto_rows": null,
       "grid_column": null,
       "grid_gap": null,
       "grid_row": null,
       "grid_template_areas": null,
       "grid_template_columns": null,
       "grid_template_rows": null,
       "height": null,
       "justify_content": null,
       "justify_items": null,
       "left": null,
       "margin": null,
       "max_height": null,
       "max_width": null,
       "min_height": null,
       "min_width": null,
       "object_fit": null,
       "object_position": null,
       "order": null,
       "overflow": null,
       "overflow_x": null,
       "overflow_y": null,
       "padding": null,
       "right": null,
       "top": null,
       "visibility": null,
       "width": null
      }
     },
     "06d2fa5581784171afa364d5bb135039": {
      "model_module": "@jupyter-widgets/base",
      "model_module_version": "1.2.0",
      "model_name": "LayoutModel",
      "state": {
       "_model_module": "@jupyter-widgets/base",
       "_model_module_version": "1.2.0",
       "_model_name": "LayoutModel",
       "_view_count": null,
       "_view_module": "@jupyter-widgets/base",
       "_view_module_version": "1.2.0",
       "_view_name": "LayoutView",
       "align_content": null,
       "align_items": null,
       "align_self": null,
       "border": null,
       "bottom": null,
       "display": null,
       "flex": null,
       "flex_flow": null,
       "grid_area": null,
       "grid_auto_columns": null,
       "grid_auto_flow": null,
       "grid_auto_rows": null,
       "grid_column": null,
       "grid_gap": null,
       "grid_row": null,
       "grid_template_areas": null,
       "grid_template_columns": null,
       "grid_template_rows": null,
       "height": null,
       "justify_content": null,
       "justify_items": null,
       "left": null,
       "margin": null,
       "max_height": null,
       "max_width": null,
       "min_height": null,
       "min_width": null,
       "object_fit": null,
       "object_position": null,
       "order": null,
       "overflow": null,
       "overflow_x": null,
       "overflow_y": null,
       "padding": null,
       "right": null,
       "top": null,
       "visibility": null,
       "width": null
      }
     },
     "07fe82fdc3084d40b4f3749f46bd9a92": {
      "model_module": "@jupyter-widgets/controls",
      "model_module_version": "1.5.0",
      "model_name": "ProgressStyleModel",
      "state": {
       "_model_module": "@jupyter-widgets/controls",
       "_model_module_version": "1.5.0",
       "_model_name": "ProgressStyleModel",
       "_view_count": null,
       "_view_module": "@jupyter-widgets/base",
       "_view_module_version": "1.2.0",
       "_view_name": "StyleView",
       "bar_color": null,
       "description_width": ""
      }
     },
     "0959d28fc19446458cd857ae5a6fd222": {
      "model_module": "@jupyter-widgets/controls",
      "model_module_version": "1.5.0",
      "model_name": "HTMLModel",
      "state": {
       "_dom_classes": [],
       "_model_module": "@jupyter-widgets/controls",
       "_model_module_version": "1.5.0",
       "_model_name": "HTMLModel",
       "_view_count": null,
       "_view_module": "@jupyter-widgets/controls",
       "_view_module_version": "1.5.0",
       "_view_name": "HTMLView",
       "description": "",
       "description_tooltip": null,
       "layout": "IPY_MODEL_ba2578bec44a4f98bf14306af7605b36",
       "placeholder": "​",
       "style": "IPY_MODEL_7df07808127b4d3cb3018aaacaf793bc",
       "value": "special_tokens_map.json: 100%"
      }
     },
     "0dd4a1f1e392445c93eee50a8bd26bdc": {
      "model_module": "@jupyter-widgets/controls",
      "model_module_version": "1.5.0",
      "model_name": "HTMLModel",
      "state": {
       "_dom_classes": [],
       "_model_module": "@jupyter-widgets/controls",
       "_model_module_version": "1.5.0",
       "_model_name": "HTMLModel",
       "_view_count": null,
       "_view_module": "@jupyter-widgets/controls",
       "_view_module_version": "1.5.0",
       "_view_name": "HTMLView",
       "description": "",
       "description_tooltip": null,
       "layout": "IPY_MODEL_d0c9b4adbd0d42e5b9aaebb8cdf4a02c",
       "placeholder": "​",
       "style": "IPY_MODEL_010aac71c7aa4b19826da366681c1a2f",
       "value": " 899k/899k [00:00&lt;00:00, 3.59MB/s]"
      }
     },
     "122d10f4298d4261a36284f65ab079e4": {
      "model_module": "@jupyter-widgets/controls",
      "model_module_version": "1.5.0",
      "model_name": "HTMLModel",
      "state": {
       "_dom_classes": [],
       "_model_module": "@jupyter-widgets/controls",
       "_model_module_version": "1.5.0",
       "_model_name": "HTMLModel",
       "_view_count": null,
       "_view_module": "@jupyter-widgets/controls",
       "_view_module_version": "1.5.0",
       "_view_name": "HTMLView",
       "description": "",
       "description_tooltip": null,
       "layout": "IPY_MODEL_8a393e8b76434201a261735bdf302de5",
       "placeholder": "​",
       "style": "IPY_MODEL_9a3b56b73bd645e98575e066d7f76a39",
       "value": "merges.txt: 100%"
      }
     },
     "12d2304cc0454d10a42382a9f8763767": {
      "model_module": "@jupyter-widgets/base",
      "model_module_version": "1.2.0",
      "model_name": "LayoutModel",
      "state": {
       "_model_module": "@jupyter-widgets/base",
       "_model_module_version": "1.2.0",
       "_model_name": "LayoutModel",
       "_view_count": null,
       "_view_module": "@jupyter-widgets/base",
       "_view_module_version": "1.2.0",
       "_view_name": "LayoutView",
       "align_content": null,
       "align_items": null,
       "align_self": null,
       "border": null,
       "bottom": null,
       "display": null,
       "flex": null,
       "flex_flow": null,
       "grid_area": null,
       "grid_auto_columns": null,
       "grid_auto_flow": null,
       "grid_auto_rows": null,
       "grid_column": null,
       "grid_gap": null,
       "grid_row": null,
       "grid_template_areas": null,
       "grid_template_columns": null,
       "grid_template_rows": null,
       "height": null,
       "justify_content": null,
       "justify_items": null,
       "left": null,
       "margin": null,
       "max_height": null,
       "max_width": null,
       "min_height": null,
       "min_width": null,
       "object_fit": null,
       "object_position": null,
       "order": null,
       "overflow": null,
       "overflow_x": null,
       "overflow_y": null,
       "padding": null,
       "right": null,
       "top": null,
       "visibility": null,
       "width": null
      }
     },
     "14d9e5f5656a4907a093fb682ace0235": {
      "model_module": "@jupyter-widgets/base",
      "model_module_version": "1.2.0",
      "model_name": "LayoutModel",
      "state": {
       "_model_module": "@jupyter-widgets/base",
       "_model_module_version": "1.2.0",
       "_model_name": "LayoutModel",
       "_view_count": null,
       "_view_module": "@jupyter-widgets/base",
       "_view_module_version": "1.2.0",
       "_view_name": "LayoutView",
       "align_content": null,
       "align_items": null,
       "align_self": null,
       "border": null,
       "bottom": null,
       "display": null,
       "flex": null,
       "flex_flow": null,
       "grid_area": null,
       "grid_auto_columns": null,
       "grid_auto_flow": null,
       "grid_auto_rows": null,
       "grid_column": null,
       "grid_gap": null,
       "grid_row": null,
       "grid_template_areas": null,
       "grid_template_columns": null,
       "grid_template_rows": null,
       "height": null,
       "justify_content": null,
       "justify_items": null,
       "left": null,
       "margin": null,
       "max_height": null,
       "max_width": null,
       "min_height": null,
       "min_width": null,
       "object_fit": null,
       "object_position": null,
       "order": null,
       "overflow": null,
       "overflow_x": null,
       "overflow_y": null,
       "padding": null,
       "right": null,
       "top": null,
       "visibility": null,
       "width": null
      }
     },
     "163bbdfeba904119adfee62e56fdb30e": {
      "model_module": "@jupyter-widgets/base",
      "model_module_version": "1.2.0",
      "model_name": "LayoutModel",
      "state": {
       "_model_module": "@jupyter-widgets/base",
       "_model_module_version": "1.2.0",
       "_model_name": "LayoutModel",
       "_view_count": null,
       "_view_module": "@jupyter-widgets/base",
       "_view_module_version": "1.2.0",
       "_view_name": "LayoutView",
       "align_content": null,
       "align_items": null,
       "align_self": null,
       "border": null,
       "bottom": null,
       "display": null,
       "flex": null,
       "flex_flow": null,
       "grid_area": null,
       "grid_auto_columns": null,
       "grid_auto_flow": null,
       "grid_auto_rows": null,
       "grid_column": null,
       "grid_gap": null,
       "grid_row": null,
       "grid_template_areas": null,
       "grid_template_columns": null,
       "grid_template_rows": null,
       "height": null,
       "justify_content": null,
       "justify_items": null,
       "left": null,
       "margin": null,
       "max_height": null,
       "max_width": null,
       "min_height": null,
       "min_width": null,
       "object_fit": null,
       "object_position": null,
       "order": null,
       "overflow": null,
       "overflow_x": null,
       "overflow_y": null,
       "padding": null,
       "right": null,
       "top": null,
       "visibility": null,
       "width": null
      }
     },
     "181cd15d1bd9492cb9a5e12662f71962": {
      "model_module": "@jupyter-widgets/controls",
      "model_module_version": "1.5.0",
      "model_name": "HTMLModel",
      "state": {
       "_dom_classes": [],
       "_model_module": "@jupyter-widgets/controls",
       "_model_module_version": "1.5.0",
       "_model_name": "HTMLModel",
       "_view_count": null,
       "_view_module": "@jupyter-widgets/controls",
       "_view_module_version": "1.5.0",
       "_view_name": "HTMLView",
       "description": "",
       "description_tooltip": null,
       "layout": "IPY_MODEL_4a4bc9a0be92448c85e6725aa85482cf",
       "placeholder": "​",
       "style": "IPY_MODEL_5501047140e94c35b7c4006561e52ff4",
       "value": "config.json: 100%"
      }
     },
     "1dc92fa488a049e1b6461ce62d52dfa8": {
      "model_module": "@jupyter-widgets/controls",
      "model_module_version": "1.5.0",
      "model_name": "DescriptionStyleModel",
      "state": {
       "_model_module": "@jupyter-widgets/controls",
       "_model_module_version": "1.5.0",
       "_model_name": "DescriptionStyleModel",
       "_view_count": null,
       "_view_module": "@jupyter-widgets/base",
       "_view_module_version": "1.2.0",
       "_view_name": "StyleView",
       "description_width": ""
      }
     },
     "2d15c73dc88b4f02b6eef9850119d02b": {
      "model_module": "@jupyter-widgets/base",
      "model_module_version": "1.2.0",
      "model_name": "LayoutModel",
      "state": {
       "_model_module": "@jupyter-widgets/base",
       "_model_module_version": "1.2.0",
       "_model_name": "LayoutModel",
       "_view_count": null,
       "_view_module": "@jupyter-widgets/base",
       "_view_module_version": "1.2.0",
       "_view_name": "LayoutView",
       "align_content": null,
       "align_items": null,
       "align_self": null,
       "border": null,
       "bottom": null,
       "display": null,
       "flex": null,
       "flex_flow": null,
       "grid_area": null,
       "grid_auto_columns": null,
       "grid_auto_flow": null,
       "grid_auto_rows": null,
       "grid_column": null,
       "grid_gap": null,
       "grid_row": null,
       "grid_template_areas": null,
       "grid_template_columns": null,
       "grid_template_rows": null,
       "height": null,
       "justify_content": null,
       "justify_items": null,
       "left": null,
       "margin": null,
       "max_height": null,
       "max_width": null,
       "min_height": null,
       "min_width": null,
       "object_fit": null,
       "object_position": null,
       "order": null,
       "overflow": null,
       "overflow_x": null,
       "overflow_y": null,
       "padding": null,
       "right": null,
       "top": null,
       "visibility": null,
       "width": null
      }
     },
     "2e59644968ff412c9617c99a75bf1a41": {
      "model_module": "@jupyter-widgets/controls",
      "model_module_version": "1.5.0",
      "model_name": "HBoxModel",
      "state": {
       "_dom_classes": [],
       "_model_module": "@jupyter-widgets/controls",
       "_model_module_version": "1.5.0",
       "_model_name": "HBoxModel",
       "_view_count": null,
       "_view_module": "@jupyter-widgets/controls",
       "_view_module_version": "1.5.0",
       "_view_name": "HBoxView",
       "box_style": "",
       "children": [
        "IPY_MODEL_a7722d7d265e4f08948b037fa375ec04",
        "IPY_MODEL_82417dab1af845f8b595ad80c32cd2ac",
        "IPY_MODEL_a438274a1cd648b19cb370f5eb13a6d5"
       ],
       "layout": "IPY_MODEL_06d2fa5581784171afa364d5bb135039"
      }
     },
     "4638f44f22ff43b584d3170d1e8307eb": {
      "model_module": "@jupyter-widgets/base",
      "model_module_version": "1.2.0",
      "model_name": "LayoutModel",
      "state": {
       "_model_module": "@jupyter-widgets/base",
       "_model_module_version": "1.2.0",
       "_model_name": "LayoutModel",
       "_view_count": null,
       "_view_module": "@jupyter-widgets/base",
       "_view_module_version": "1.2.0",
       "_view_name": "LayoutView",
       "align_content": null,
       "align_items": null,
       "align_self": null,
       "border": null,
       "bottom": null,
       "display": null,
       "flex": null,
       "flex_flow": null,
       "grid_area": null,
       "grid_auto_columns": null,
       "grid_auto_flow": null,
       "grid_auto_rows": null,
       "grid_column": null,
       "grid_gap": null,
       "grid_row": null,
       "grid_template_areas": null,
       "grid_template_columns": null,
       "grid_template_rows": null,
       "height": null,
       "justify_content": null,
       "justify_items": null,
       "left": null,
       "margin": null,
       "max_height": null,
       "max_width": null,
       "min_height": null,
       "min_width": null,
       "object_fit": null,
       "object_position": null,
       "order": null,
       "overflow": null,
       "overflow_x": null,
       "overflow_y": null,
       "padding": null,
       "right": null,
       "top": null,
       "visibility": null,
       "width": null
      }
     },
     "47f18f7ae6154c01bcbb1ae363fd0636": {
      "model_module": "@jupyter-widgets/base",
      "model_module_version": "1.2.0",
      "model_name": "LayoutModel",
      "state": {
       "_model_module": "@jupyter-widgets/base",
       "_model_module_version": "1.2.0",
       "_model_name": "LayoutModel",
       "_view_count": null,
       "_view_module": "@jupyter-widgets/base",
       "_view_module_version": "1.2.0",
       "_view_name": "LayoutView",
       "align_content": null,
       "align_items": null,
       "align_self": null,
       "border": null,
       "bottom": null,
       "display": null,
       "flex": null,
       "flex_flow": null,
       "grid_area": null,
       "grid_auto_columns": null,
       "grid_auto_flow": null,
       "grid_auto_rows": null,
       "grid_column": null,
       "grid_gap": null,
       "grid_row": null,
       "grid_template_areas": null,
       "grid_template_columns": null,
       "grid_template_rows": null,
       "height": null,
       "justify_content": null,
       "justify_items": null,
       "left": null,
       "margin": null,
       "max_height": null,
       "max_width": null,
       "min_height": null,
       "min_width": null,
       "object_fit": null,
       "object_position": null,
       "order": null,
       "overflow": null,
       "overflow_x": null,
       "overflow_y": null,
       "padding": null,
       "right": null,
       "top": null,
       "visibility": null,
       "width": null
      }
     },
     "4813b1acf80d4eab981b0a2f1cb5340e": {
      "model_module": "@jupyter-widgets/controls",
      "model_module_version": "1.5.0",
      "model_name": "ProgressStyleModel",
      "state": {
       "_model_module": "@jupyter-widgets/controls",
       "_model_module_version": "1.5.0",
       "_model_name": "ProgressStyleModel",
       "_view_count": null,
       "_view_module": "@jupyter-widgets/base",
       "_view_module_version": "1.2.0",
       "_view_name": "StyleView",
       "bar_color": null,
       "description_width": ""
      }
     },
     "4a4bc9a0be92448c85e6725aa85482cf": {
      "model_module": "@jupyter-widgets/base",
      "model_module_version": "1.2.0",
      "model_name": "LayoutModel",
      "state": {
       "_model_module": "@jupyter-widgets/base",
       "_model_module_version": "1.2.0",
       "_model_name": "LayoutModel",
       "_view_count": null,
       "_view_module": "@jupyter-widgets/base",
       "_view_module_version": "1.2.0",
       "_view_name": "LayoutView",
       "align_content": null,
       "align_items": null,
       "align_self": null,
       "border": null,
       "bottom": null,
       "display": null,
       "flex": null,
       "flex_flow": null,
       "grid_area": null,
       "grid_auto_columns": null,
       "grid_auto_flow": null,
       "grid_auto_rows": null,
       "grid_column": null,
       "grid_gap": null,
       "grid_row": null,
       "grid_template_areas": null,
       "grid_template_columns": null,
       "grid_template_rows": null,
       "height": null,
       "justify_content": null,
       "justify_items": null,
       "left": null,
       "margin": null,
       "max_height": null,
       "max_width": null,
       "min_height": null,
       "min_width": null,
       "object_fit": null,
       "object_position": null,
       "order": null,
       "overflow": null,
       "overflow_x": null,
       "overflow_y": null,
       "padding": null,
       "right": null,
       "top": null,
       "visibility": null,
       "width": null
      }
     },
     "4b838644e7e546c1a50be58665fe7e14": {
      "model_module": "@jupyter-widgets/base",
      "model_module_version": "1.2.0",
      "model_name": "LayoutModel",
      "state": {
       "_model_module": "@jupyter-widgets/base",
       "_model_module_version": "1.2.0",
       "_model_name": "LayoutModel",
       "_view_count": null,
       "_view_module": "@jupyter-widgets/base",
       "_view_module_version": "1.2.0",
       "_view_name": "LayoutView",
       "align_content": null,
       "align_items": null,
       "align_self": null,
       "border": null,
       "bottom": null,
       "display": null,
       "flex": null,
       "flex_flow": null,
       "grid_area": null,
       "grid_auto_columns": null,
       "grid_auto_flow": null,
       "grid_auto_rows": null,
       "grid_column": null,
       "grid_gap": null,
       "grid_row": null,
       "grid_template_areas": null,
       "grid_template_columns": null,
       "grid_template_rows": null,
       "height": null,
       "justify_content": null,
       "justify_items": null,
       "left": null,
       "margin": null,
       "max_height": null,
       "max_width": null,
       "min_height": null,
       "min_width": null,
       "object_fit": null,
       "object_position": null,
       "order": null,
       "overflow": null,
       "overflow_x": null,
       "overflow_y": null,
       "padding": null,
       "right": null,
       "top": null,
       "visibility": null,
       "width": null
      }
     },
     "4c97a7ff61ec4ce48b7810a2cdf5777a": {
      "model_module": "@jupyter-widgets/controls",
      "model_module_version": "1.5.0",
      "model_name": "HBoxModel",
      "state": {
       "_dom_classes": [],
       "_model_module": "@jupyter-widgets/controls",
       "_model_module_version": "1.5.0",
       "_model_name": "HBoxModel",
       "_view_count": null,
       "_view_module": "@jupyter-widgets/controls",
       "_view_module_version": "1.5.0",
       "_view_name": "HBoxView",
       "box_style": "",
       "children": [
        "IPY_MODEL_0959d28fc19446458cd857ae5a6fd222",
        "IPY_MODEL_d34d18d69cf74ce8bced2115fd0afd53",
        "IPY_MODEL_5969b492c8214bd88baa5793659879a4"
       ],
       "layout": "IPY_MODEL_c368b8470ae3465aa2bf9d5ef12e1370"
      }
     },
     "4e93fcf6ec2c424b822b3c4b59196a29": {
      "model_module": "@jupyter-widgets/controls",
      "model_module_version": "1.5.0",
      "model_name": "ProgressStyleModel",
      "state": {
       "_model_module": "@jupyter-widgets/controls",
       "_model_module_version": "1.5.0",
       "_model_name": "ProgressStyleModel",
       "_view_count": null,
       "_view_module": "@jupyter-widgets/base",
       "_view_module_version": "1.2.0",
       "_view_name": "StyleView",
       "bar_color": null,
       "description_width": ""
      }
     },
     "5501047140e94c35b7c4006561e52ff4": {
      "model_module": "@jupyter-widgets/controls",
      "model_module_version": "1.5.0",
      "model_name": "DescriptionStyleModel",
      "state": {
       "_model_module": "@jupyter-widgets/controls",
       "_model_module_version": "1.5.0",
       "_model_name": "DescriptionStyleModel",
       "_view_count": null,
       "_view_module": "@jupyter-widgets/base",
       "_view_module_version": "1.2.0",
       "_view_name": "StyleView",
       "description_width": ""
      }
     },
     "5969b492c8214bd88baa5793659879a4": {
      "model_module": "@jupyter-widgets/controls",
      "model_module_version": "1.5.0",
      "model_name": "HTMLModel",
      "state": {
       "_dom_classes": [],
       "_model_module": "@jupyter-widgets/controls",
       "_model_module_version": "1.5.0",
       "_model_name": "HTMLModel",
       "_view_count": null,
       "_view_module": "@jupyter-widgets/controls",
       "_view_module_version": "1.5.0",
       "_view_name": "HTMLView",
       "description": "",
       "description_tooltip": null,
       "layout": "IPY_MODEL_163bbdfeba904119adfee62e56fdb30e",
       "placeholder": "​",
       "style": "IPY_MODEL_9ed9aff5ec1841dfb903e818e5ec6b8e",
       "value": " 150/150 [00:00&lt;00:00, 12.3kB/s]"
      }
     },
     "604f54113d5e40aeb53a68435a450648": {
      "model_module": "@jupyter-widgets/controls",
      "model_module_version": "1.5.0",
      "model_name": "HTMLModel",
      "state": {
       "_dom_classes": [],
       "_model_module": "@jupyter-widgets/controls",
       "_model_module_version": "1.5.0",
       "_model_name": "HTMLModel",
       "_view_count": null,
       "_view_module": "@jupyter-widgets/controls",
       "_view_module_version": "1.5.0",
       "_view_name": "HTMLView",
       "description": "",
       "description_tooltip": null,
       "layout": "IPY_MODEL_8a79b5ea09294816b63ef4ac37e9efd8",
       "placeholder": "​",
       "style": "IPY_MODEL_8ba17a25e1ec44e6a2f81fdf07df0c53",
       "value": " 747/747 [00:00&lt;00:00, 67.0kB/s]"
      }
     },
     "67efb2ec192648a9b4d69e2f0ef85556": {
      "model_module": "@jupyter-widgets/controls",
      "model_module_version": "1.5.0",
      "model_name": "HTMLModel",
      "state": {
       "_dom_classes": [],
       "_model_module": "@jupyter-widgets/controls",
       "_model_module_version": "1.5.0",
       "_model_name": "HTMLModel",
       "_view_count": null,
       "_view_module": "@jupyter-widgets/controls",
       "_view_module_version": "1.5.0",
       "_view_name": "HTMLView",
       "description": "",
       "description_tooltip": null,
       "layout": "IPY_MODEL_74fa21d8b8c04d55a183091aafcf4d38",
       "placeholder": "​",
       "style": "IPY_MODEL_a7a2c152d8284a94b77f1c20a639ca83",
       "value": " 456k/456k [00:00&lt;00:00, 2.34MB/s]"
      }
     },
     "6f0e9e1591404f42bf03dc537efbade7": {
      "model_module": "@jupyter-widgets/controls",
      "model_module_version": "1.5.0",
      "model_name": "FloatProgressModel",
      "state": {
       "_dom_classes": [],
       "_model_module": "@jupyter-widgets/controls",
       "_model_module_version": "1.5.0",
       "_model_name": "FloatProgressModel",
       "_view_count": null,
       "_view_module": "@jupyter-widgets/controls",
       "_view_module_version": "1.5.0",
       "_view_name": "ProgressView",
       "bar_style": "success",
       "description": "",
       "description_tooltip": null,
       "layout": "IPY_MODEL_96bd8d6b67a04bac82b929aec75f2f69",
       "max": 898822.0,
       "min": 0.0,
       "orientation": "horizontal",
       "style": "IPY_MODEL_4e93fcf6ec2c424b822b3c4b59196a29",
       "value": 898822.0
      }
     },
     "74fa21d8b8c04d55a183091aafcf4d38": {
      "model_module": "@jupyter-widgets/base",
      "model_module_version": "1.2.0",
      "model_name": "LayoutModel",
      "state": {
       "_model_module": "@jupyter-widgets/base",
       "_model_module_version": "1.2.0",
       "_model_name": "LayoutModel",
       "_view_count": null,
       "_view_module": "@jupyter-widgets/base",
       "_view_module_version": "1.2.0",
       "_view_name": "LayoutView",
       "align_content": null,
       "align_items": null,
       "align_self": null,
       "border": null,
       "bottom": null,
       "display": null,
       "flex": null,
       "flex_flow": null,
       "grid_area": null,
       "grid_auto_columns": null,
       "grid_auto_flow": null,
       "grid_auto_rows": null,
       "grid_column": null,
       "grid_gap": null,
       "grid_row": null,
       "grid_template_areas": null,
       "grid_template_columns": null,
       "grid_template_rows": null,
       "height": null,
       "justify_content": null,
       "justify_items": null,
       "left": null,
       "margin": null,
       "max_height": null,
       "max_width": null,
       "min_height": null,
       "min_width": null,
       "object_fit": null,
       "object_position": null,
       "order": null,
       "overflow": null,
       "overflow_x": null,
       "overflow_y": null,
       "padding": null,
       "right": null,
       "top": null,
       "visibility": null,
       "width": null
      }
     },
     "7df07808127b4d3cb3018aaacaf793bc": {
      "model_module": "@jupyter-widgets/controls",
      "model_module_version": "1.5.0",
      "model_name": "DescriptionStyleModel",
      "state": {
       "_model_module": "@jupyter-widgets/controls",
       "_model_module_version": "1.5.0",
       "_model_name": "DescriptionStyleModel",
       "_view_count": null,
       "_view_module": "@jupyter-widgets/base",
       "_view_module_version": "1.2.0",
       "_view_name": "StyleView",
       "description_width": ""
      }
     },
     "80e51279343c48c2b16b9cf4ef268173": {
      "model_module": "@jupyter-widgets/controls",
      "model_module_version": "1.5.0",
      "model_name": "ProgressStyleModel",
      "state": {
       "_model_module": "@jupyter-widgets/controls",
       "_model_module_version": "1.5.0",
       "_model_name": "ProgressStyleModel",
       "_view_count": null,
       "_view_module": "@jupyter-widgets/base",
       "_view_module_version": "1.2.0",
       "_view_name": "StyleView",
       "bar_color": null,
       "description_width": ""
      }
     },
     "82417dab1af845f8b595ad80c32cd2ac": {
      "model_module": "@jupyter-widgets/controls",
      "model_module_version": "1.5.0",
      "model_name": "FloatProgressModel",
      "state": {
       "_dom_classes": [],
       "_model_module": "@jupyter-widgets/controls",
       "_model_module_version": "1.5.0",
       "_model_name": "FloatProgressModel",
       "_view_count": null,
       "_view_module": "@jupyter-widgets/controls",
       "_view_module_version": "1.5.0",
       "_view_name": "ProgressView",
       "bar_style": "success",
       "description": "",
       "description_tooltip": null,
       "layout": "IPY_MODEL_2d15c73dc88b4f02b6eef9850119d02b",
       "max": 500.0,
       "min": 0.0,
       "orientation": "horizontal",
       "style": "IPY_MODEL_4813b1acf80d4eab981b0a2f1cb5340e",
       "value": 500.0
      }
     },
     "84a7add90c5a4bc8b4f21ed1db970096": {
      "model_module": "@jupyter-widgets/base",
      "model_module_version": "1.2.0",
      "model_name": "LayoutModel",
      "state": {
       "_model_module": "@jupyter-widgets/base",
       "_model_module_version": "1.2.0",
       "_model_name": "LayoutModel",
       "_view_count": null,
       "_view_module": "@jupyter-widgets/base",
       "_view_module_version": "1.2.0",
       "_view_name": "LayoutView",
       "align_content": null,
       "align_items": null,
       "align_self": null,
       "border": null,
       "bottom": null,
       "display": null,
       "flex": null,
       "flex_flow": null,
       "grid_area": null,
       "grid_auto_columns": null,
       "grid_auto_flow": null,
       "grid_auto_rows": null,
       "grid_column": null,
       "grid_gap": null,
       "grid_row": null,
       "grid_template_areas": null,
       "grid_template_columns": null,
       "grid_template_rows": null,
       "height": null,
       "justify_content": null,
       "justify_items": null,
       "left": null,
       "margin": null,
       "max_height": null,
       "max_width": null,
       "min_height": null,
       "min_width": null,
       "object_fit": null,
       "object_position": null,
       "order": null,
       "overflow": null,
       "overflow_x": null,
       "overflow_y": null,
       "padding": null,
       "right": null,
       "top": null,
       "visibility": null,
       "width": null
      }
     },
     "87926fdfcf8445728ef1be51ac840636": {
      "model_module": "@jupyter-widgets/controls",
      "model_module_version": "1.5.0",
      "model_name": "DescriptionStyleModel",
      "state": {
       "_model_module": "@jupyter-widgets/controls",
       "_model_module_version": "1.5.0",
       "_model_name": "DescriptionStyleModel",
       "_view_count": null,
       "_view_module": "@jupyter-widgets/base",
       "_view_module_version": "1.2.0",
       "_view_name": "StyleView",
       "description_width": ""
      }
     },
     "8a393e8b76434201a261735bdf302de5": {
      "model_module": "@jupyter-widgets/base",
      "model_module_version": "1.2.0",
      "model_name": "LayoutModel",
      "state": {
       "_model_module": "@jupyter-widgets/base",
       "_model_module_version": "1.2.0",
       "_model_name": "LayoutModel",
       "_view_count": null,
       "_view_module": "@jupyter-widgets/base",
       "_view_module_version": "1.2.0",
       "_view_name": "LayoutView",
       "align_content": null,
       "align_items": null,
       "align_self": null,
       "border": null,
       "bottom": null,
       "display": null,
       "flex": null,
       "flex_flow": null,
       "grid_area": null,
       "grid_auto_columns": null,
       "grid_auto_flow": null,
       "grid_auto_rows": null,
       "grid_column": null,
       "grid_gap": null,
       "grid_row": null,
       "grid_template_areas": null,
       "grid_template_columns": null,
       "grid_template_rows": null,
       "height": null,
       "justify_content": null,
       "justify_items": null,
       "left": null,
       "margin": null,
       "max_height": null,
       "max_width": null,
       "min_height": null,
       "min_width": null,
       "object_fit": null,
       "object_position": null,
       "order": null,
       "overflow": null,
       "overflow_x": null,
       "overflow_y": null,
       "padding": null,
       "right": null,
       "top": null,
       "visibility": null,
       "width": null
      }
     },
     "8a79b5ea09294816b63ef4ac37e9efd8": {
      "model_module": "@jupyter-widgets/base",
      "model_module_version": "1.2.0",
      "model_name": "LayoutModel",
      "state": {
       "_model_module": "@jupyter-widgets/base",
       "_model_module_version": "1.2.0",
       "_model_name": "LayoutModel",
       "_view_count": null,
       "_view_module": "@jupyter-widgets/base",
       "_view_module_version": "1.2.0",
       "_view_name": "LayoutView",
       "align_content": null,
       "align_items": null,
       "align_self": null,
       "border": null,
       "bottom": null,
       "display": null,
       "flex": null,
       "flex_flow": null,
       "grid_area": null,
       "grid_auto_columns": null,
       "grid_auto_flow": null,
       "grid_auto_rows": null,
       "grid_column": null,
       "grid_gap": null,
       "grid_row": null,
       "grid_template_areas": null,
       "grid_template_columns": null,
       "grid_template_rows": null,
       "height": null,
       "justify_content": null,
       "justify_items": null,
       "left": null,
       "margin": null,
       "max_height": null,
       "max_width": null,
       "min_height": null,
       "min_width": null,
       "object_fit": null,
       "object_position": null,
       "order": null,
       "overflow": null,
       "overflow_x": null,
       "overflow_y": null,
       "padding": null,
       "right": null,
       "top": null,
       "visibility": null,
       "width": null
      }
     },
     "8abd6614c72644d69cb066a9c2616e50": {
      "model_module": "@jupyter-widgets/base",
      "model_module_version": "1.2.0",
      "model_name": "LayoutModel",
      "state": {
       "_model_module": "@jupyter-widgets/base",
       "_model_module_version": "1.2.0",
       "_model_name": "LayoutModel",
       "_view_count": null,
       "_view_module": "@jupyter-widgets/base",
       "_view_module_version": "1.2.0",
       "_view_name": "LayoutView",
       "align_content": null,
       "align_items": null,
       "align_self": null,
       "border": null,
       "bottom": null,
       "display": null,
       "flex": null,
       "flex_flow": null,
       "grid_area": null,
       "grid_auto_columns": null,
       "grid_auto_flow": null,
       "grid_auto_rows": null,
       "grid_column": null,
       "grid_gap": null,
       "grid_row": null,
       "grid_template_areas": null,
       "grid_template_columns": null,
       "grid_template_rows": null,
       "height": null,
       "justify_content": null,
       "justify_items": null,
       "left": null,
       "margin": null,
       "max_height": null,
       "max_width": null,
       "min_height": null,
       "min_width": null,
       "object_fit": null,
       "object_position": null,
       "order": null,
       "overflow": null,
       "overflow_x": null,
       "overflow_y": null,
       "padding": null,
       "right": null,
       "top": null,
       "visibility": null,
       "width": null
      }
     },
     "8ba17a25e1ec44e6a2f81fdf07df0c53": {
      "model_module": "@jupyter-widgets/controls",
      "model_module_version": "1.5.0",
      "model_name": "DescriptionStyleModel",
      "state": {
       "_model_module": "@jupyter-widgets/controls",
       "_model_module_version": "1.5.0",
       "_model_name": "DescriptionStyleModel",
       "_view_count": null,
       "_view_module": "@jupyter-widgets/base",
       "_view_module_version": "1.2.0",
       "_view_name": "StyleView",
       "description_width": ""
      }
     },
     "90b57ea29ae14598aa7b0807542bde4b": {
      "model_module": "@jupyter-widgets/controls",
      "model_module_version": "1.5.0",
      "model_name": "HBoxModel",
      "state": {
       "_dom_classes": [],
       "_model_module": "@jupyter-widgets/controls",
       "_model_module_version": "1.5.0",
       "_model_name": "HBoxModel",
       "_view_count": null,
       "_view_module": "@jupyter-widgets/controls",
       "_view_module_version": "1.5.0",
       "_view_name": "HBoxView",
       "box_style": "",
       "children": [
        "IPY_MODEL_a6e9fd2de69446ada7feb39085d39fb1",
        "IPY_MODEL_be0b2d9aa2e64e08af16aff6cec7f206",
        "IPY_MODEL_c2326f77f9a24409a011f43b9eb85152"
       ],
       "layout": "IPY_MODEL_cfdf3631a2dc44af88b9a24d75206c3a"
      }
     },
     "90b7f3a67e1e4fccb7182efbd3a97cd0": {
      "model_module": "@jupyter-widgets/controls",
      "model_module_version": "1.5.0",
      "model_name": "HBoxModel",
      "state": {
       "_dom_classes": [],
       "_model_module": "@jupyter-widgets/controls",
       "_model_module_version": "1.5.0",
       "_model_name": "HBoxModel",
       "_view_count": null,
       "_view_module": "@jupyter-widgets/controls",
       "_view_module_version": "1.5.0",
       "_view_name": "HBoxView",
       "box_style": "",
       "children": [
        "IPY_MODEL_98724c34797f4e7dae624f43b878cf0e",
        "IPY_MODEL_9debe3a7e50d4263a5b57e602912ab85",
        "IPY_MODEL_c2e1712f45004ff89796bd86d8b75982"
       ],
       "layout": "IPY_MODEL_c702cdb092f44b68ac3b756b6e5d4ad9"
      }
     },
     "90df82517e3f4689aff520fa4954a203": {
      "model_module": "@jupyter-widgets/controls",
      "model_module_version": "1.5.0",
      "model_name": "DescriptionStyleModel",
      "state": {
       "_model_module": "@jupyter-widgets/controls",
       "_model_module_version": "1.5.0",
       "_model_name": "DescriptionStyleModel",
       "_view_count": null,
       "_view_module": "@jupyter-widgets/base",
       "_view_module_version": "1.2.0",
       "_view_name": "StyleView",
       "description_width": ""
      }
     },
     "91250bc997ac4cc99fd8758df8801f79": {
      "model_module": "@jupyter-widgets/controls",
      "model_module_version": "1.5.0",
      "model_name": "ProgressStyleModel",
      "state": {
       "_model_module": "@jupyter-widgets/controls",
       "_model_module_version": "1.5.0",
       "_model_name": "ProgressStyleModel",
       "_view_count": null,
       "_view_module": "@jupyter-widgets/base",
       "_view_module_version": "1.2.0",
       "_view_name": "StyleView",
       "bar_color": null,
       "description_width": ""
      }
     },
     "96bd8d6b67a04bac82b929aec75f2f69": {
      "model_module": "@jupyter-widgets/base",
      "model_module_version": "1.2.0",
      "model_name": "LayoutModel",
      "state": {
       "_model_module": "@jupyter-widgets/base",
       "_model_module_version": "1.2.0",
       "_model_name": "LayoutModel",
       "_view_count": null,
       "_view_module": "@jupyter-widgets/base",
       "_view_module_version": "1.2.0",
       "_view_name": "LayoutView",
       "align_content": null,
       "align_items": null,
       "align_self": null,
       "border": null,
       "bottom": null,
       "display": null,
       "flex": null,
       "flex_flow": null,
       "grid_area": null,
       "grid_auto_columns": null,
       "grid_auto_flow": null,
       "grid_auto_rows": null,
       "grid_column": null,
       "grid_gap": null,
       "grid_row": null,
       "grid_template_areas": null,
       "grid_template_columns": null,
       "grid_template_rows": null,
       "height": null,
       "justify_content": null,
       "justify_items": null,
       "left": null,
       "margin": null,
       "max_height": null,
       "max_width": null,
       "min_height": null,
       "min_width": null,
       "object_fit": null,
       "object_position": null,
       "order": null,
       "overflow": null,
       "overflow_x": null,
       "overflow_y": null,
       "padding": null,
       "right": null,
       "top": null,
       "visibility": null,
       "width": null
      }
     },
     "98724c34797f4e7dae624f43b878cf0e": {
      "model_module": "@jupyter-widgets/controls",
      "model_module_version": "1.5.0",
      "model_name": "HTMLModel",
      "state": {
       "_dom_classes": [],
       "_model_module": "@jupyter-widgets/controls",
       "_model_module_version": "1.5.0",
       "_model_name": "HTMLModel",
       "_view_count": null,
       "_view_module": "@jupyter-widgets/controls",
       "_view_module_version": "1.5.0",
       "_view_name": "HTMLView",
       "description": "",
       "description_tooltip": null,
       "layout": "IPY_MODEL_0562b07c64ac4b408e64549197f4c681",
       "placeholder": "​",
       "style": "IPY_MODEL_90df82517e3f4689aff520fa4954a203",
       "value": "100%"
      }
     },
     "9a3b56b73bd645e98575e066d7f76a39": {
      "model_module": "@jupyter-widgets/controls",
      "model_module_version": "1.5.0",
      "model_name": "DescriptionStyleModel",
      "state": {
       "_model_module": "@jupyter-widgets/controls",
       "_model_module_version": "1.5.0",
       "_model_name": "DescriptionStyleModel",
       "_view_count": null,
       "_view_module": "@jupyter-widgets/base",
       "_view_module_version": "1.2.0",
       "_view_name": "StyleView",
       "description_width": ""
      }
     },
     "9debe3a7e50d4263a5b57e602912ab85": {
      "model_module": "@jupyter-widgets/controls",
      "model_module_version": "1.5.0",
      "model_name": "FloatProgressModel",
      "state": {
       "_dom_classes": [],
       "_model_module": "@jupyter-widgets/controls",
       "_model_module_version": "1.5.0",
       "_model_name": "FloatProgressModel",
       "_view_count": null,
       "_view_module": "@jupyter-widgets/controls",
       "_view_module_version": "1.5.0",
       "_view_name": "ProgressView",
       "bar_style": "success",
       "description": "",
       "description_tooltip": null,
       "layout": "IPY_MODEL_8abd6614c72644d69cb066a9c2616e50",
       "max": 500.0,
       "min": 0.0,
       "orientation": "horizontal",
       "style": "IPY_MODEL_d2d76dfe54b14357b54736c33c55e87d",
       "value": 500.0
      }
     },
     "9ed9aff5ec1841dfb903e818e5ec6b8e": {
      "model_module": "@jupyter-widgets/controls",
      "model_module_version": "1.5.0",
      "model_name": "DescriptionStyleModel",
      "state": {
       "_model_module": "@jupyter-widgets/controls",
       "_model_module_version": "1.5.0",
       "_model_name": "DescriptionStyleModel",
       "_view_count": null,
       "_view_module": "@jupyter-widgets/base",
       "_view_module_version": "1.2.0",
       "_view_name": "StyleView",
       "description_width": ""
      }
     },
     "a3a0f5bc0ce44e89808161ee86edff12": {
      "model_module": "@jupyter-widgets/base",
      "model_module_version": "1.2.0",
      "model_name": "LayoutModel",
      "state": {
       "_model_module": "@jupyter-widgets/base",
       "_model_module_version": "1.2.0",
       "_model_name": "LayoutModel",
       "_view_count": null,
       "_view_module": "@jupyter-widgets/base",
       "_view_module_version": "1.2.0",
       "_view_name": "LayoutView",
       "align_content": null,
       "align_items": null,
       "align_self": null,
       "border": null,
       "bottom": null,
       "display": null,
       "flex": null,
       "flex_flow": null,
       "grid_area": null,
       "grid_auto_columns": null,
       "grid_auto_flow": null,
       "grid_auto_rows": null,
       "grid_column": null,
       "grid_gap": null,
       "grid_row": null,
       "grid_template_areas": null,
       "grid_template_columns": null,
       "grid_template_rows": null,
       "height": null,
       "justify_content": null,
       "justify_items": null,
       "left": null,
       "margin": null,
       "max_height": null,
       "max_width": null,
       "min_height": null,
       "min_width": null,
       "object_fit": null,
       "object_position": null,
       "order": null,
       "overflow": null,
       "overflow_x": null,
       "overflow_y": null,
       "padding": null,
       "right": null,
       "top": null,
       "visibility": null,
       "width": null
      }
     },
     "a438274a1cd648b19cb370f5eb13a6d5": {
      "model_module": "@jupyter-widgets/controls",
      "model_module_version": "1.5.0",
      "model_name": "HTMLModel",
      "state": {
       "_dom_classes": [],
       "_model_module": "@jupyter-widgets/controls",
       "_model_module_version": "1.5.0",
       "_model_name": "HTMLModel",
       "_view_count": null,
       "_view_module": "@jupyter-widgets/controls",
       "_view_module_version": "1.5.0",
       "_view_name": "HTMLView",
       "description": "",
       "description_tooltip": null,
       "layout": "IPY_MODEL_01e644361234416b99dcb31bc8778085",
       "placeholder": "​",
       "style": "IPY_MODEL_87926fdfcf8445728ef1be51ac840636",
       "value": " 500/500 [00:41&lt;00:00, 11.93it/s]"
      }
     },
     "a6e9fd2de69446ada7feb39085d39fb1": {
      "model_module": "@jupyter-widgets/controls",
      "model_module_version": "1.5.0",
      "model_name": "HTMLModel",
      "state": {
       "_dom_classes": [],
       "_model_module": "@jupyter-widgets/controls",
       "_model_module_version": "1.5.0",
       "_model_name": "HTMLModel",
       "_view_count": null,
       "_view_module": "@jupyter-widgets/controls",
       "_view_module_version": "1.5.0",
       "_view_name": "HTMLView",
       "description": "",
       "description_tooltip": null,
       "layout": "IPY_MODEL_4b838644e7e546c1a50be58665fe7e14",
       "placeholder": "​",
       "style": "IPY_MODEL_c982af9acf4b490ba159dccf21992aaf",
       "value": "pytorch_model.bin: 100%"
      }
     },
     "a7722d7d265e4f08948b037fa375ec04": {
      "model_module": "@jupyter-widgets/controls",
      "model_module_version": "1.5.0",
      "model_name": "HTMLModel",
      "state": {
       "_dom_classes": [],
       "_model_module": "@jupyter-widgets/controls",
       "_model_module_version": "1.5.0",
       "_model_name": "HTMLModel",
       "_view_count": null,
       "_view_module": "@jupyter-widgets/controls",
       "_view_module_version": "1.5.0",
       "_view_name": "HTMLView",
       "description": "",
       "description_tooltip": null,
       "layout": "IPY_MODEL_14d9e5f5656a4907a093fb682ace0235",
       "placeholder": "​",
       "style": "IPY_MODEL_1dc92fa488a049e1b6461ce62d52dfa8",
       "value": "100%"
      }
     },
     "a7a2c152d8284a94b77f1c20a639ca83": {
      "model_module": "@jupyter-widgets/controls",
      "model_module_version": "1.5.0",
      "model_name": "DescriptionStyleModel",
      "state": {
       "_model_module": "@jupyter-widgets/controls",
       "_model_module_version": "1.5.0",
       "_model_name": "DescriptionStyleModel",
       "_view_count": null,
       "_view_module": "@jupyter-widgets/base",
       "_view_module_version": "1.2.0",
       "_view_name": "StyleView",
       "description_width": ""
      }
     },
     "aaed73046e494464915a8074191e6bd5": {
      "model_module": "@jupyter-widgets/base",
      "model_module_version": "1.2.0",
      "model_name": "LayoutModel",
      "state": {
       "_model_module": "@jupyter-widgets/base",
       "_model_module_version": "1.2.0",
       "_model_name": "LayoutModel",
       "_view_count": null,
       "_view_module": "@jupyter-widgets/base",
       "_view_module_version": "1.2.0",
       "_view_name": "LayoutView",
       "align_content": null,
       "align_items": null,
       "align_self": null,
       "border": null,
       "bottom": null,
       "display": null,
       "flex": null,
       "flex_flow": null,
       "grid_area": null,
       "grid_auto_columns": null,
       "grid_auto_flow": null,
       "grid_auto_rows": null,
       "grid_column": null,
       "grid_gap": null,
       "grid_row": null,
       "grid_template_areas": null,
       "grid_template_columns": null,
       "grid_template_rows": null,
       "height": null,
       "justify_content": null,
       "justify_items": null,
       "left": null,
       "margin": null,
       "max_height": null,
       "max_width": null,
       "min_height": null,
       "min_width": null,
       "object_fit": null,
       "object_position": null,
       "order": null,
       "overflow": null,
       "overflow_x": null,
       "overflow_y": null,
       "padding": null,
       "right": null,
       "top": null,
       "visibility": null,
       "width": null
      }
     },
     "ab45235727d446a486d8b4c0279a75bf": {
      "model_module": "@jupyter-widgets/controls",
      "model_module_version": "1.5.0",
      "model_name": "FloatProgressModel",
      "state": {
       "_dom_classes": [],
       "_model_module": "@jupyter-widgets/controls",
       "_model_module_version": "1.5.0",
       "_model_name": "FloatProgressModel",
       "_view_count": null,
       "_view_module": "@jupyter-widgets/controls",
       "_view_module_version": "1.5.0",
       "_view_name": "ProgressView",
       "bar_style": "success",
       "description": "",
       "description_tooltip": null,
       "layout": "IPY_MODEL_b69c941c35b04516bb3416289c0c415b",
       "max": 456318.0,
       "min": 0.0,
       "orientation": "horizontal",
       "style": "IPY_MODEL_80e51279343c48c2b16b9cf4ef268173",
       "value": 456318.0
      }
     },
     "aef9bab68d9341a59953f6c2e9512498": {
      "model_module": "@jupyter-widgets/controls",
      "model_module_version": "1.5.0",
      "model_name": "HBoxModel",
      "state": {
       "_dom_classes": [],
       "_model_module": "@jupyter-widgets/controls",
       "_model_module_version": "1.5.0",
       "_model_name": "HBoxModel",
       "_view_count": null,
       "_view_module": "@jupyter-widgets/controls",
       "_view_module_version": "1.5.0",
       "_view_name": "HBoxView",
       "box_style": "",
       "children": [
        "IPY_MODEL_122d10f4298d4261a36284f65ab079e4",
        "IPY_MODEL_ab45235727d446a486d8b4c0279a75bf",
        "IPY_MODEL_67efb2ec192648a9b4d69e2f0ef85556"
       ],
       "layout": "IPY_MODEL_c48d7e52bb9f4b7f82c9836b9b0e6a58"
      }
     },
     "b69c941c35b04516bb3416289c0c415b": {
      "model_module": "@jupyter-widgets/base",
      "model_module_version": "1.2.0",
      "model_name": "LayoutModel",
      "state": {
       "_model_module": "@jupyter-widgets/base",
       "_model_module_version": "1.2.0",
       "_model_name": "LayoutModel",
       "_view_count": null,
       "_view_module": "@jupyter-widgets/base",
       "_view_module_version": "1.2.0",
       "_view_name": "LayoutView",
       "align_content": null,
       "align_items": null,
       "align_self": null,
       "border": null,
       "bottom": null,
       "display": null,
       "flex": null,
       "flex_flow": null,
       "grid_area": null,
       "grid_auto_columns": null,
       "grid_auto_flow": null,
       "grid_auto_rows": null,
       "grid_column": null,
       "grid_gap": null,
       "grid_row": null,
       "grid_template_areas": null,
       "grid_template_columns": null,
       "grid_template_rows": null,
       "height": null,
       "justify_content": null,
       "justify_items": null,
       "left": null,
       "margin": null,
       "max_height": null,
       "max_width": null,
       "min_height": null,
       "min_width": null,
       "object_fit": null,
       "object_position": null,
       "order": null,
       "overflow": null,
       "overflow_x": null,
       "overflow_y": null,
       "padding": null,
       "right": null,
       "top": null,
       "visibility": null,
       "width": null
      }
     },
     "ba2578bec44a4f98bf14306af7605b36": {
      "model_module": "@jupyter-widgets/base",
      "model_module_version": "1.2.0",
      "model_name": "LayoutModel",
      "state": {
       "_model_module": "@jupyter-widgets/base",
       "_model_module_version": "1.2.0",
       "_model_name": "LayoutModel",
       "_view_count": null,
       "_view_module": "@jupyter-widgets/base",
       "_view_module_version": "1.2.0",
       "_view_name": "LayoutView",
       "align_content": null,
       "align_items": null,
       "align_self": null,
       "border": null,
       "bottom": null,
       "display": null,
       "flex": null,
       "flex_flow": null,
       "grid_area": null,
       "grid_auto_columns": null,
       "grid_auto_flow": null,
       "grid_auto_rows": null,
       "grid_column": null,
       "grid_gap": null,
       "grid_row": null,
       "grid_template_areas": null,
       "grid_template_columns": null,
       "grid_template_rows": null,
       "height": null,
       "justify_content": null,
       "justify_items": null,
       "left": null,
       "margin": null,
       "max_height": null,
       "max_width": null,
       "min_height": null,
       "min_width": null,
       "object_fit": null,
       "object_position": null,
       "order": null,
       "overflow": null,
       "overflow_x": null,
       "overflow_y": null,
       "padding": null,
       "right": null,
       "top": null,
       "visibility": null,
       "width": null
      }
     },
     "bd7a3e76d0a242aa8cf83972b17ee03a": {
      "model_module": "@jupyter-widgets/controls",
      "model_module_version": "1.5.0",
      "model_name": "HTMLModel",
      "state": {
       "_dom_classes": [],
       "_model_module": "@jupyter-widgets/controls",
       "_model_module_version": "1.5.0",
       "_model_name": "HTMLModel",
       "_view_count": null,
       "_view_module": "@jupyter-widgets/controls",
       "_view_module_version": "1.5.0",
       "_view_name": "HTMLView",
       "description": "",
       "description_tooltip": null,
       "layout": "IPY_MODEL_12d2304cc0454d10a42382a9f8763767",
       "placeholder": "​",
       "style": "IPY_MODEL_ce1f673b503841179f74dea9f98697c5",
       "value": "vocab.json: 100%"
      }
     },
     "be0b2d9aa2e64e08af16aff6cec7f206": {
      "model_module": "@jupyter-widgets/controls",
      "model_module_version": "1.5.0",
      "model_name": "FloatProgressModel",
      "state": {
       "_dom_classes": [],
       "_model_module": "@jupyter-widgets/controls",
       "_model_module_version": "1.5.0",
       "_model_name": "FloatProgressModel",
       "_view_count": null,
       "_view_module": "@jupyter-widgets/controls",
       "_view_module_version": "1.5.0",
       "_view_name": "ProgressView",
       "bar_style": "success",
       "description": "",
       "description_tooltip": null,
       "layout": "IPY_MODEL_e2dfd2b8908f44448355665c4e74080f",
       "max": 498679497.0,
       "min": 0.0,
       "orientation": "horizontal",
       "style": "IPY_MODEL_07fe82fdc3084d40b4f3749f46bd9a92",
       "value": 498679497.0
      }
     },
     "c19245a1cdac435c83e46e5c079ba795": {
      "model_module": "@jupyter-widgets/controls",
      "model_module_version": "1.5.0",
      "model_name": "DescriptionStyleModel",
      "state": {
       "_model_module": "@jupyter-widgets/controls",
       "_model_module_version": "1.5.0",
       "_model_name": "DescriptionStyleModel",
       "_view_count": null,
       "_view_module": "@jupyter-widgets/base",
       "_view_module_version": "1.2.0",
       "_view_name": "StyleView",
       "description_width": ""
      }
     },
     "c2326f77f9a24409a011f43b9eb85152": {
      "model_module": "@jupyter-widgets/controls",
      "model_module_version": "1.5.0",
      "model_name": "HTMLModel",
      "state": {
       "_dom_classes": [],
       "_model_module": "@jupyter-widgets/controls",
       "_model_module_version": "1.5.0",
       "_model_name": "HTMLModel",
       "_view_count": null,
       "_view_module": "@jupyter-widgets/controls",
       "_view_module_version": "1.5.0",
       "_view_name": "HTMLView",
       "description": "",
       "description_tooltip": null,
       "layout": "IPY_MODEL_aaed73046e494464915a8074191e6bd5",
       "placeholder": "​",
       "style": "IPY_MODEL_d56982654f214d7db1d3a9278966ed7d",
       "value": " 499M/499M [00:02&lt;00:00, 281MB/s]"
      }
     },
     "c2e1712f45004ff89796bd86d8b75982": {
      "model_module": "@jupyter-widgets/controls",
      "model_module_version": "1.5.0",
      "model_name": "HTMLModel",
      "state": {
       "_dom_classes": [],
       "_model_module": "@jupyter-widgets/controls",
       "_model_module_version": "1.5.0",
       "_model_name": "HTMLModel",
       "_view_count": null,
       "_view_module": "@jupyter-widgets/controls",
       "_view_module_version": "1.5.0",
       "_view_name": "HTMLView",
       "description": "",
       "description_tooltip": null,
       "layout": "IPY_MODEL_ec84971fb218473488de96d0e5799cf8",
       "placeholder": "​",
       "style": "IPY_MODEL_c19245a1cdac435c83e46e5c079ba795",
       "value": " 500/500 [00:00&lt;00:00, 1729.67it/s]"
      }
     },
     "c368b8470ae3465aa2bf9d5ef12e1370": {
      "model_module": "@jupyter-widgets/base",
      "model_module_version": "1.2.0",
      "model_name": "LayoutModel",
      "state": {
       "_model_module": "@jupyter-widgets/base",
       "_model_module_version": "1.2.0",
       "_model_name": "LayoutModel",
       "_view_count": null,
       "_view_module": "@jupyter-widgets/base",
       "_view_module_version": "1.2.0",
       "_view_name": "LayoutView",
       "align_content": null,
       "align_items": null,
       "align_self": null,
       "border": null,
       "bottom": null,
       "display": null,
       "flex": null,
       "flex_flow": null,
       "grid_area": null,
       "grid_auto_columns": null,
       "grid_auto_flow": null,
       "grid_auto_rows": null,
       "grid_column": null,
       "grid_gap": null,
       "grid_row": null,
       "grid_template_areas": null,
       "grid_template_columns": null,
       "grid_template_rows": null,
       "height": null,
       "justify_content": null,
       "justify_items": null,
       "left": null,
       "margin": null,
       "max_height": null,
       "max_width": null,
       "min_height": null,
       "min_width": null,
       "object_fit": null,
       "object_position": null,
       "order": null,
       "overflow": null,
       "overflow_x": null,
       "overflow_y": null,
       "padding": null,
       "right": null,
       "top": null,
       "visibility": null,
       "width": null
      }
     },
     "c48d7e52bb9f4b7f82c9836b9b0e6a58": {
      "model_module": "@jupyter-widgets/base",
      "model_module_version": "1.2.0",
      "model_name": "LayoutModel",
      "state": {
       "_model_module": "@jupyter-widgets/base",
       "_model_module_version": "1.2.0",
       "_model_name": "LayoutModel",
       "_view_count": null,
       "_view_module": "@jupyter-widgets/base",
       "_view_module_version": "1.2.0",
       "_view_name": "LayoutView",
       "align_content": null,
       "align_items": null,
       "align_self": null,
       "border": null,
       "bottom": null,
       "display": null,
       "flex": null,
       "flex_flow": null,
       "grid_area": null,
       "grid_auto_columns": null,
       "grid_auto_flow": null,
       "grid_auto_rows": null,
       "grid_column": null,
       "grid_gap": null,
       "grid_row": null,
       "grid_template_areas": null,
       "grid_template_columns": null,
       "grid_template_rows": null,
       "height": null,
       "justify_content": null,
       "justify_items": null,
       "left": null,
       "margin": null,
       "max_height": null,
       "max_width": null,
       "min_height": null,
       "min_width": null,
       "object_fit": null,
       "object_position": null,
       "order": null,
       "overflow": null,
       "overflow_x": null,
       "overflow_y": null,
       "padding": null,
       "right": null,
       "top": null,
       "visibility": null,
       "width": null
      }
     },
     "c702cdb092f44b68ac3b756b6e5d4ad9": {
      "model_module": "@jupyter-widgets/base",
      "model_module_version": "1.2.0",
      "model_name": "LayoutModel",
      "state": {
       "_model_module": "@jupyter-widgets/base",
       "_model_module_version": "1.2.0",
       "_model_name": "LayoutModel",
       "_view_count": null,
       "_view_module": "@jupyter-widgets/base",
       "_view_module_version": "1.2.0",
       "_view_name": "LayoutView",
       "align_content": null,
       "align_items": null,
       "align_self": null,
       "border": null,
       "bottom": null,
       "display": null,
       "flex": null,
       "flex_flow": null,
       "grid_area": null,
       "grid_auto_columns": null,
       "grid_auto_flow": null,
       "grid_auto_rows": null,
       "grid_column": null,
       "grid_gap": null,
       "grid_row": null,
       "grid_template_areas": null,
       "grid_template_columns": null,
       "grid_template_rows": null,
       "height": null,
       "justify_content": null,
       "justify_items": null,
       "left": null,
       "margin": null,
       "max_height": null,
       "max_width": null,
       "min_height": null,
       "min_width": null,
       "object_fit": null,
       "object_position": null,
       "order": null,
       "overflow": null,
       "overflow_x": null,
       "overflow_y": null,
       "padding": null,
       "right": null,
       "top": null,
       "visibility": null,
       "width": null
      }
     },
     "c982af9acf4b490ba159dccf21992aaf": {
      "model_module": "@jupyter-widgets/controls",
      "model_module_version": "1.5.0",
      "model_name": "DescriptionStyleModel",
      "state": {
       "_model_module": "@jupyter-widgets/controls",
       "_model_module_version": "1.5.0",
       "_model_name": "DescriptionStyleModel",
       "_view_count": null,
       "_view_module": "@jupyter-widgets/base",
       "_view_module_version": "1.2.0",
       "_view_name": "StyleView",
       "description_width": ""
      }
     },
     "ce1f673b503841179f74dea9f98697c5": {
      "model_module": "@jupyter-widgets/controls",
      "model_module_version": "1.5.0",
      "model_name": "DescriptionStyleModel",
      "state": {
       "_model_module": "@jupyter-widgets/controls",
       "_model_module_version": "1.5.0",
       "_model_name": "DescriptionStyleModel",
       "_view_count": null,
       "_view_module": "@jupyter-widgets/base",
       "_view_module_version": "1.2.0",
       "_view_name": "StyleView",
       "description_width": ""
      }
     },
     "cf349ba045524ee4be186b859320e67f": {
      "model_module": "@jupyter-widgets/controls",
      "model_module_version": "1.5.0",
      "model_name": "HBoxModel",
      "state": {
       "_dom_classes": [],
       "_model_module": "@jupyter-widgets/controls",
       "_model_module_version": "1.5.0",
       "_model_name": "HBoxModel",
       "_view_count": null,
       "_view_module": "@jupyter-widgets/controls",
       "_view_module_version": "1.5.0",
       "_view_name": "HBoxView",
       "box_style": "",
       "children": [
        "IPY_MODEL_bd7a3e76d0a242aa8cf83972b17ee03a",
        "IPY_MODEL_6f0e9e1591404f42bf03dc537efbade7",
        "IPY_MODEL_0dd4a1f1e392445c93eee50a8bd26bdc"
       ],
       "layout": "IPY_MODEL_47f18f7ae6154c01bcbb1ae363fd0636"
      }
     },
     "cfdf3631a2dc44af88b9a24d75206c3a": {
      "model_module": "@jupyter-widgets/base",
      "model_module_version": "1.2.0",
      "model_name": "LayoutModel",
      "state": {
       "_model_module": "@jupyter-widgets/base",
       "_model_module_version": "1.2.0",
       "_model_name": "LayoutModel",
       "_view_count": null,
       "_view_module": "@jupyter-widgets/base",
       "_view_module_version": "1.2.0",
       "_view_name": "LayoutView",
       "align_content": null,
       "align_items": null,
       "align_self": null,
       "border": null,
       "bottom": null,
       "display": null,
       "flex": null,
       "flex_flow": null,
       "grid_area": null,
       "grid_auto_columns": null,
       "grid_auto_flow": null,
       "grid_auto_rows": null,
       "grid_column": null,
       "grid_gap": null,
       "grid_row": null,
       "grid_template_areas": null,
       "grid_template_columns": null,
       "grid_template_rows": null,
       "height": null,
       "justify_content": null,
       "justify_items": null,
       "left": null,
       "margin": null,
       "max_height": null,
       "max_width": null,
       "min_height": null,
       "min_width": null,
       "object_fit": null,
       "object_position": null,
       "order": null,
       "overflow": null,
       "overflow_x": null,
       "overflow_y": null,
       "padding": null,
       "right": null,
       "top": null,
       "visibility": null,
       "width": null
      }
     },
     "d0c9b4adbd0d42e5b9aaebb8cdf4a02c": {
      "model_module": "@jupyter-widgets/base",
      "model_module_version": "1.2.0",
      "model_name": "LayoutModel",
      "state": {
       "_model_module": "@jupyter-widgets/base",
       "_model_module_version": "1.2.0",
       "_model_name": "LayoutModel",
       "_view_count": null,
       "_view_module": "@jupyter-widgets/base",
       "_view_module_version": "1.2.0",
       "_view_name": "LayoutView",
       "align_content": null,
       "align_items": null,
       "align_self": null,
       "border": null,
       "bottom": null,
       "display": null,
       "flex": null,
       "flex_flow": null,
       "grid_area": null,
       "grid_auto_columns": null,
       "grid_auto_flow": null,
       "grid_auto_rows": null,
       "grid_column": null,
       "grid_gap": null,
       "grid_row": null,
       "grid_template_areas": null,
       "grid_template_columns": null,
       "grid_template_rows": null,
       "height": null,
       "justify_content": null,
       "justify_items": null,
       "left": null,
       "margin": null,
       "max_height": null,
       "max_width": null,
       "min_height": null,
       "min_width": null,
       "object_fit": null,
       "object_position": null,
       "order": null,
       "overflow": null,
       "overflow_x": null,
       "overflow_y": null,
       "padding": null,
       "right": null,
       "top": null,
       "visibility": null,
       "width": null
      }
     },
     "d2d76dfe54b14357b54736c33c55e87d": {
      "model_module": "@jupyter-widgets/controls",
      "model_module_version": "1.5.0",
      "model_name": "ProgressStyleModel",
      "state": {
       "_model_module": "@jupyter-widgets/controls",
       "_model_module_version": "1.5.0",
       "_model_name": "ProgressStyleModel",
       "_view_count": null,
       "_view_module": "@jupyter-widgets/base",
       "_view_module_version": "1.2.0",
       "_view_name": "StyleView",
       "bar_color": null,
       "description_width": ""
      }
     },
     "d34d18d69cf74ce8bced2115fd0afd53": {
      "model_module": "@jupyter-widgets/controls",
      "model_module_version": "1.5.0",
      "model_name": "FloatProgressModel",
      "state": {
       "_dom_classes": [],
       "_model_module": "@jupyter-widgets/controls",
       "_model_module_version": "1.5.0",
       "_model_name": "FloatProgressModel",
       "_view_count": null,
       "_view_module": "@jupyter-widgets/controls",
       "_view_module_version": "1.5.0",
       "_view_name": "ProgressView",
       "bar_style": "success",
       "description": "",
       "description_tooltip": null,
       "layout": "IPY_MODEL_4638f44f22ff43b584d3170d1e8307eb",
       "max": 150.0,
       "min": 0.0,
       "orientation": "horizontal",
       "style": "IPY_MODEL_91250bc997ac4cc99fd8758df8801f79",
       "value": 150.0
      }
     },
     "d46984e3f52d480db132c0867b2a3dc7": {
      "model_module": "@jupyter-widgets/controls",
      "model_module_version": "1.5.0",
      "model_name": "ProgressStyleModel",
      "state": {
       "_model_module": "@jupyter-widgets/controls",
       "_model_module_version": "1.5.0",
       "_model_name": "ProgressStyleModel",
       "_view_count": null,
       "_view_module": "@jupyter-widgets/base",
       "_view_module_version": "1.2.0",
       "_view_name": "StyleView",
       "bar_color": null,
       "description_width": ""
      }
     },
     "d56982654f214d7db1d3a9278966ed7d": {
      "model_module": "@jupyter-widgets/controls",
      "model_module_version": "1.5.0",
      "model_name": "DescriptionStyleModel",
      "state": {
       "_model_module": "@jupyter-widgets/controls",
       "_model_module_version": "1.5.0",
       "_model_name": "DescriptionStyleModel",
       "_view_count": null,
       "_view_module": "@jupyter-widgets/base",
       "_view_module_version": "1.2.0",
       "_view_name": "StyleView",
       "description_width": ""
      }
     },
     "e1253bd126614728807927834498f526": {
      "model_module": "@jupyter-widgets/controls",
      "model_module_version": "1.5.0",
      "model_name": "HBoxModel",
      "state": {
       "_dom_classes": [],
       "_model_module": "@jupyter-widgets/controls",
       "_model_module_version": "1.5.0",
       "_model_name": "HBoxModel",
       "_view_count": null,
       "_view_module": "@jupyter-widgets/controls",
       "_view_module_version": "1.5.0",
       "_view_name": "HBoxView",
       "box_style": "",
       "children": [
        "IPY_MODEL_181cd15d1bd9492cb9a5e12662f71962",
        "IPY_MODEL_eebacfb877ac451d9b70beb2e2a7c361",
        "IPY_MODEL_604f54113d5e40aeb53a68435a450648"
       ],
       "layout": "IPY_MODEL_a3a0f5bc0ce44e89808161ee86edff12"
      }
     },
     "e2dfd2b8908f44448355665c4e74080f": {
      "model_module": "@jupyter-widgets/base",
      "model_module_version": "1.2.0",
      "model_name": "LayoutModel",
      "state": {
       "_model_module": "@jupyter-widgets/base",
       "_model_module_version": "1.2.0",
       "_model_name": "LayoutModel",
       "_view_count": null,
       "_view_module": "@jupyter-widgets/base",
       "_view_module_version": "1.2.0",
       "_view_name": "LayoutView",
       "align_content": null,
       "align_items": null,
       "align_self": null,
       "border": null,
       "bottom": null,
       "display": null,
       "flex": null,
       "flex_flow": null,
       "grid_area": null,
       "grid_auto_columns": null,
       "grid_auto_flow": null,
       "grid_auto_rows": null,
       "grid_column": null,
       "grid_gap": null,
       "grid_row": null,
       "grid_template_areas": null,
       "grid_template_columns": null,
       "grid_template_rows": null,
       "height": null,
       "justify_content": null,
       "justify_items": null,
       "left": null,
       "margin": null,
       "max_height": null,
       "max_width": null,
       "min_height": null,
       "min_width": null,
       "object_fit": null,
       "object_position": null,
       "order": null,
       "overflow": null,
       "overflow_x": null,
       "overflow_y": null,
       "padding": null,
       "right": null,
       "top": null,
       "visibility": null,
       "width": null
      }
     },
     "ec84971fb218473488de96d0e5799cf8": {
      "model_module": "@jupyter-widgets/base",
      "model_module_version": "1.2.0",
      "model_name": "LayoutModel",
      "state": {
       "_model_module": "@jupyter-widgets/base",
       "_model_module_version": "1.2.0",
       "_model_name": "LayoutModel",
       "_view_count": null,
       "_view_module": "@jupyter-widgets/base",
       "_view_module_version": "1.2.0",
       "_view_name": "LayoutView",
       "align_content": null,
       "align_items": null,
       "align_self": null,
       "border": null,
       "bottom": null,
       "display": null,
       "flex": null,
       "flex_flow": null,
       "grid_area": null,
       "grid_auto_columns": null,
       "grid_auto_flow": null,
       "grid_auto_rows": null,
       "grid_column": null,
       "grid_gap": null,
       "grid_row": null,
       "grid_template_areas": null,
       "grid_template_columns": null,
       "grid_template_rows": null,
       "height": null,
       "justify_content": null,
       "justify_items": null,
       "left": null,
       "margin": null,
       "max_height": null,
       "max_width": null,
       "min_height": null,
       "min_width": null,
       "object_fit": null,
       "object_position": null,
       "order": null,
       "overflow": null,
       "overflow_x": null,
       "overflow_y": null,
       "padding": null,
       "right": null,
       "top": null,
       "visibility": null,
       "width": null
      }
     },
     "eebacfb877ac451d9b70beb2e2a7c361": {
      "model_module": "@jupyter-widgets/controls",
      "model_module_version": "1.5.0",
      "model_name": "FloatProgressModel",
      "state": {
       "_dom_classes": [],
       "_model_module": "@jupyter-widgets/controls",
       "_model_module_version": "1.5.0",
       "_model_name": "FloatProgressModel",
       "_view_count": null,
       "_view_module": "@jupyter-widgets/controls",
       "_view_module_version": "1.5.0",
       "_view_name": "ProgressView",
       "bar_style": "success",
       "description": "",
       "description_tooltip": null,
       "layout": "IPY_MODEL_84a7add90c5a4bc8b4f21ed1db970096",
       "max": 747.0,
       "min": 0.0,
       "orientation": "horizontal",
       "style": "IPY_MODEL_d46984e3f52d480db132c0867b2a3dc7",
       "value": 747.0
      }
     }
    },
    "version_major": 2,
    "version_minor": 0
   }
  }
 },
 "nbformat": 4,
 "nbformat_minor": 5
}
